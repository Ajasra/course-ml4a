{
 "cells": [
  {
   "cell_type": "code",
   "execution_count": null,
   "metadata": {},
   "outputs": [],
   "source": [
    "import pickle\n",
    "\n",
    "images, pca_features = pickle.load(open('data/features_caltech101.p', 'r'))\n",
    "\n",
    "for i, f in zip(images, pca_features)[0:5]:\n",
    "    print(\"image: %s, features: %0.2f,%0.2f,%0.2f,%0.2f... \"%(i, f[0], f[1], f[2], f[3]))"
   ]
  },
  {
   "cell_type": "code",
   "execution_count": null,
   "metadata": {},
   "outputs": [],
   "source": [
    "num_images = 10000\n",
    "\n",
    "if len(images) > num_images:\n",
    "    sort_order = sorted(random.sample(xrange(len(images)), num_images))\n",
    "    images = [images[i] for i in sort_order]\n",
    "    pca_features = [pca_features[i] for i in sort_order]"
   ]
  },
  {
   "cell_type": "code",
   "execution_count": null,
   "metadata": {},
   "outputs": [],
   "source": [
    "from igraph import *\n",
    "\n",
    "kNN = 30\n",
    "\n",
    "graph = Graph(directed=True)\n",
    "graph.add_vertices(len(images))\n",
    "\n",
    "for i in tqdm(range(len(images))):\n",
    "    distances = [ distance.cosine(pca_features[i], feat) for feat in pca_features ]\n",
    "    idx_kNN = sorted(range(len(distances)), key=lambda k: distances[k])[1:kNN+1]\n",
    "    for j in idx_kNN:\n",
    "        graph.add_edge(i, j, weight=distances[j])\n",
    "    \n",
    "summary(graph)"
   ]
  },
  {
   "cell_type": "code",
   "execution_count": null,
   "metadata": {},
   "outputs": [],
   "source": [
    "pickle.dump([images, graph], open('data/graph_caltech101_30knn.p', 'wb'))\n",
    "#images, graph = pickle.load(open('../data/graph_caltech101_30knn.p', 'r'))"
   ]
  },
  {
   "cell_type": "code",
   "execution_count": null,
   "metadata": {},
   "outputs": [],
   "source": [
    "def get_concatenated_images(indexes, thumb_height):\n",
    "    thumbs = []\n",
    "    for idx in indexes:\n",
    "        img = Image.open(images[idx])\n",
    "        img = img.convert('RGB')\n",
    "        img = img.resize((int(img.width * thumb_height / img.height), thumb_height))\n",
    "        thumbs.append(img)\n",
    "    concat_image = np.concatenate([np.asarray(t) for t in thumbs], axis=1)\n",
    "    return concat_image"
   ]
  },
  {
   "cell_type": "code",
   "execution_count": null,
   "metadata": {},
   "outputs": [],
   "source": [
    "# pick two random indices\n",
    "idx1 = int(len(images) * random.random())\n",
    "idx2 = int(len(images) * random.random())\n",
    "\n",
    "# run get_shortest_paths\n",
    "path = graph.get_shortest_paths(idx1, to=idx2, mode=OUT, output='vpath', weights='weight')[0]\n",
    "\n",
    "# retrieve the images, concatenate into one, and display them\n",
    "results_image = get_concatenated_images(path, 200)\n",
    "matplotlib.pyplot.figure(figsize = (16,12))\n",
    "imshow(results_image)"
   ]
  }
 ],
 "metadata": {
  "kernelspec": {
   "display_name": "Python 3",
   "language": "python",
   "name": "python3"
  },
  "language_info": {
   "codemirror_mode": {
    "name": "ipython",
    "version": 3
   },
   "file_extension": ".py",
   "mimetype": "text/x-python",
   "name": "python",
   "nbconvert_exporter": "python",
   "pygments_lexer": "ipython3",
   "version": "3.5.3"
  }
 },
 "nbformat": 4,
 "nbformat_minor": 2
}
