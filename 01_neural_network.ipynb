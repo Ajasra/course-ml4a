{
 "cells": [
  {
   "cell_type": "code",
   "execution_count": 94,
   "metadata": {},
   "outputs": [
    {
     "name": "stdout",
     "output_type": "stream",
     "text": [
      "Populating the interactive namespace from numpy and matplotlib\n"
     ]
    },
    {
     "data": {
      "text/plain": [
       "[<matplotlib.lines.Line2D at 0x109bb75c0>]"
      ]
     },
     "execution_count": 94,
     "metadata": {},
     "output_type": "execute_result"
    },
    {
     "data": {
      "image/png": "[encoded data removed]",
      "text/plain": [
       "<matplotlib.figure.Figure at 0x1094c3c50>"
      ]
     },
     "metadata": {},
     "output_type": "display_data"
    }
   ],
   "source": [
    "import numpy as np\n",
    "\n",
    "class Neural_Network(object):\n",
    "    def __init__(self, Lambda=0):        \n",
    "        #Define Hyperparameters\n",
    "        self.inputLayerSize = 2\n",
    "        self.outputLayerSize = 1\n",
    "        self.hiddenLayerSize = 3\n",
    "        \n",
    "        #Weights (parameters)\n",
    "        self.W1 = np.random.randn(self.inputLayerSize,self.hiddenLayerSize)\n",
    "        self.W2 = np.random.randn(self.hiddenLayerSize,self.outputLayerSize)\n",
    "        \n",
    "        #Regularization Parameter:\n",
    "        self.Lambda = Lambda\n",
    "        \n",
    "    def forward(self, X):\n",
    "        #Propogate inputs though network\n",
    "        self.z2 = np.dot(X, self.W1)\n",
    "        self.a2 = self.sigmoid(self.z2)\n",
    "        self.z3 = np.dot(self.a2, self.W2)\n",
    "        yHat = self.sigmoid(self.z3) \n",
    "        return yHat\n",
    "        \n",
    "    def sigmoid(self, z):\n",
    "        #Apply sigmoid activation function to scalar, vector, or matrix\n",
    "        return 1/(1+np.exp(-z))\n",
    "    \n",
    "    def sigmoidPrime(self,z):\n",
    "        #Gradient of sigmoid\n",
    "        return np.exp(-z)/((1+np.exp(-z))**2)\n",
    "    \n",
    "    def costFunction(self, X, y):\n",
    "        #Compute cost for given X,y, use weights already stored in class.\n",
    "        self.yHat = self.forward(X)\n",
    "        J = 0.5*sum((y-self.yHat)**2)/X.shape[0] + (self.Lambda/2)*(sum(self.W1**2)+sum(self.W2**2))\n",
    "        return J\n",
    "        \n",
    "    def costFunctionPrime(self, X, y):\n",
    "        #Compute derivative with respect to W and W2 for a given X and y:\n",
    "        self.yHat = self.forward(X)\n",
    "        \n",
    "        delta3 = np.multiply(-(y-self.yHat), self.sigmoidPrime(self.z3))\n",
    "        #Add gradient of regularization term:\n",
    "        dJdW2 = np.dot(self.a2.T, delta3)/X.shape[0] + self.Lambda*self.W2\n",
    "        \n",
    "        delta2 = np.dot(delta3, self.W2.T)*self.sigmoidPrime(self.z2)\n",
    "        #Add gradient of regularization term:\n",
    "        dJdW1 = np.dot(X.T, delta2)/X.shape[0] + self.Lambda*self.W1\n",
    "        return dJdW1, dJdW2\n",
    "\n",
    "    def costFunctionPrimeManual(self, X, y):\n",
    "        #Compute derivative with respect to W and W2 for a given X and y:\n",
    "        J1 = self.costFunction(X,y)\n",
    "        delta = 1e-8\n",
    "        \n",
    "        \n",
    "        dJdW1 = np.zeros((self.inputLayerSize,self.hiddenLayerSize))\n",
    "        dJdW2 = np.zeros((self.hiddenLayerSize,self.outputLayerSize))\n",
    "\n",
    "        \n",
    "        W1copy = np.copy(self.W1)\n",
    "        W2copy = np.copy(self.W2)\n",
    "        \n",
    "        for i in range(self.inputLayerSize):\n",
    "            for j in range(self.hiddenLayerSize):\n",
    "                self.W1 = np.copy(W1copy)\n",
    "                self.W1[i][j] += delta\n",
    "                J2 = self.costFunction(X,y)\n",
    "                dj2 = (J2-J1) / delta\n",
    "                dJdW1[i][j] = dj2\n",
    "                \n",
    "        for i in range(self.hiddenLayerSize):\n",
    "            for j in range(self.outputLayerSize):\n",
    "                self.W2 = np.copy(W2copy)\n",
    "                self.W2[i][j] += delta\n",
    "                J2 = self.costFunction(X,y)\n",
    "                dj2 = (J2-J1) / delta\n",
    "                dJdW2[i][j] = dj2\n",
    "           \n",
    "        self.W1 = np.copy(W1copy)\n",
    "        self.W2 = np.copy(W2copy)\n",
    "        \n",
    "       \n",
    "        return dJdW1, dJdW2\n",
    "\n",
    "    #Helper functions for interacting with other methods/classes\n",
    "    def getParams(self):\n",
    "        #Get W1 and W2 Rolled into vector:\n",
    "        params = np.concatenate((self.W1.ravel(), self.W2.ravel()))\n",
    "        return params\n",
    "    \n",
    "    def setParams(self, params):\n",
    "        #Set W1 and W2 using single parameter vector:\n",
    "        W1_start = 0\n",
    "        W1_end = self.hiddenLayerSize*self.inputLayerSize\n",
    "        self.W1 = np.reshape(params[W1_start:W1_end], \\\n",
    "                             (self.inputLayerSize, self.hiddenLayerSize))\n",
    "        W2_end = W1_end + self.hiddenLayerSize*self.outputLayerSize\n",
    "        self.W2 = np.reshape(params[W1_end:W2_end], \\\n",
    "                             (self.hiddenLayerSize, self.outputLayerSize))\n",
    "        \n",
    "    def computeGradients(self, X, y):\n",
    "        dJdW1, dJdW2 = self.costFunctionPrime(X, y)\n",
    "        return np.concatenate((dJdW1.ravel(), dJdW2.ravel()))\n",
    "    \n",
    "    \n",
    "\n",
    "# X = (hours sleeping, hours studying), y = Score on test\n",
    "X = np.array(([3,5], [5,1], [10,2]), dtype=float)\n",
    "y = np.array(([75], [82], [93]), dtype=float)\n",
    "\n",
    "# normalize\n",
    "X = X/np.amax(X, axis=0)\n",
    "y = y/100 #Max test score is 100\n",
    "\n",
    "\n",
    "NN = Neural_Network()\n",
    "\n",
    "\n",
    "\n",
    "learning_rate = 0.1\n",
    "\n",
    "costs = []\n",
    "for i in range(1000):\n",
    "    dJdW1, dJdW2 = NN.costFunctionPrimeManual(X,y)\n",
    "    NN.W1 = NN.W1 - learning_rate * dJdW1\n",
    "    NN.W2 = NN.W2 - learning_rate * dJdW2\n",
    "    cost3 = NN.costFunction(X, y)\n",
    "    costs.append(cost3)\n",
    "        \n",
    "\n"
   ]
  },
  {
   "cell_type": "code",
   "execution_count": 166,
   "metadata": {},
   "outputs": [],
   "source": [
    "import numpy as np\n",
    "import matplotlib.pyplot as plot\n",
    "\n",
    "import itertools\n"
   ]
  },
  {
   "cell_type": "code",
   "execution_count": 167,
   "metadata": {},
   "outputs": [],
   "source": [
    "\n",
    "        \n",
    "# X = (hours sleeping, hours studying), y = Score on test\n",
    "X = np.array(([3,5], [5,1], [10,2]), dtype=float)\n",
    "y = np.array(([75], [82], [93]), dtype=float)\n",
    "\n"
   ]
  },
  {
   "cell_type": "code",
   "execution_count": null,
   "metadata": {},
   "outputs": [],
   "source": []
  },
  {
   "cell_type": "code",
   "execution_count": 168,
   "metadata": {},
   "outputs": [],
   "source": [
    "def sigmoid(z):\n",
    "    return 1 / ( 1 + np.exp(-z))\n"
   ]
  },
  {
   "cell_type": "code",
   "execution_count": 169,
   "metadata": {},
   "outputs": [],
   "source": [
    "\n",
    "class Neural_Network(object):\n",
    "    def __init__(self, n0, n1, n2):        \n",
    "        self.n0 = n0\n",
    "        self.n1 = n1\n",
    "        self.n2 = n2\n",
    "        \n",
    "        # initialize weights\n",
    "        self.W1 = np.random.randn(self.n0, self.n1)\n",
    "        self.W2 = np.random.randn(self.n1 ,self.n2)\n",
    "        \n",
    "    def predict(self, x):\n",
    "        z = np.dot(x, self.W1)\n",
    "        z = sigmoid(z)\n",
    "        y = np.dot(z, self.W2)\n",
    "        return y\n",
    "  \n"
   ]
  },
  {
   "cell_type": "code",
   "execution_count": 170,
   "metadata": {},
   "outputs": [],
   "source": [
    "net = Neural_Network(2, 3, 1)    "
   ]
  },
  {
   "cell_type": "code",
   "execution_count": 171,
   "metadata": {},
   "outputs": [
    {
     "name": "stdout",
     "output_type": "stream",
     "text": [
      "[[0.3 1. ]\n",
      " [0.5 0.2]\n",
      " [1.  0.4]]\n",
      "[[0.75]\n",
      " [0.82]\n",
      " [0.93]]\n",
      "(3, 2)\n",
      "(3, 1)\n"
     ]
    }
   ],
   "source": [
    "# normalize\n",
    "X = X/np.amax(X, axis=0)\n",
    "y = y/100 #Max test score is 100\n",
    "\n",
    "\n",
    "\n",
    "print(X)\n",
    "print(y)\n",
    "\n",
    "print(X.shape)\n",
    "print(y.shape)"
   ]
  },
  {
   "cell_type": "code",
   "execution_count": 108,
   "metadata": {},
   "outputs": [],
   "source": [
    "y_pred = net.predict(X)"
   ]
  },
  {
   "cell_type": "code",
   "execution_count": 109,
   "metadata": {},
   "outputs": [
    {
     "data": {
      "text/plain": [
       "array([[1.24821924],\n",
       "       [0.92119703],\n",
       "       [0.80569154]])"
      ]
     },
     "execution_count": 109,
     "metadata": {},
     "output_type": "execute_result"
    }
   ],
   "source": [
    "y_pred"
   ]
  },
  {
   "cell_type": "code",
   "execution_count": 110,
   "metadata": {},
   "outputs": [
    {
     "name": "stdout",
     "output_type": "stream",
     "text": [
      "3.055789238394958\n"
     ]
    }
   ],
   "source": [
    "\n",
    "\n",
    "def mse(y_pred, y_actual):\n",
    "    return sum((y_actual-y_pred)**2)\n",
    "\n",
    "\n",
    "error = mse(y_pred, y)\n",
    "print(error)\n"
   ]
  },
  {
   "cell_type": "code",
   "execution_count": null,
   "metadata": {},
   "outputs": [],
   "source": []
  },
  {
   "cell_type": "code",
   "execution_count": null,
   "metadata": {},
   "outputs": [],
   "source": []
  },
  {
   "cell_type": "code",
   "execution_count": null,
   "metadata": {},
   "outputs": [],
   "source": []
  },
  {
   "cell_type": "code",
   "execution_count": 155,
   "metadata": {},
   "outputs": [
    {
     "data": {
      "text/plain": [
       "[<matplotlib.lines.Line2D at 0x10b0076d8>]"
      ]
     },
     "execution_count": 155,
     "metadata": {},
     "output_type": "execute_result"
    },
    {
     "data": {
      "image/png": "[encoded data removed]",
      "text/plain": [
       "<matplotlib.figure.Figure at 0x10ae1dcc0>"
      ]
     },
     "metadata": {},
     "output_type": "display_data"
    }
   ],
   "source": [
    "def get_gradient(net, X, y):\n",
    "    w_delta = 1e-8\n",
    "\n",
    "    y_pred_current = net.predict(X)\n",
    "    error_current = mse(y_pred_current, y)\n",
    "\n",
    "    dw1, dw2 = np.zeros((net.n0, net.n1)), np.zeros((net.n1, net.n2))\n",
    "    W1, W2 = np.copy(net.W1), np.copy(net.W2) \n",
    "    \n",
    "    for i, j in itertools.product(range(net.n0), range(net.n1)):\n",
    "        net.W1 = np.copy(W1)\n",
    "        net.W1[i][j] += w_delta\n",
    "        y_pred = net.predict(X)\n",
    "        error = mse(y_pred, y)\n",
    "        dw1[i][j] = (error - error_current) / w_delta\n",
    "\n",
    "    for i, j in itertools.product(range(net.n1), range(net.n2)):\n",
    "        net.W2 = np.copy(W2)\n",
    "        net.W2[i][j] += w_delta\n",
    "        y_pred = net.predict(X)\n",
    "        error = mse(y_pred, y)\n",
    "        dw2[i][j] = (error - error_current) / w_delta\n",
    "\n",
    "    net.W1, net.W2 = np.copy(W1), np.copy(W2)\n",
    "\n",
    "    return dw1, dw2\n",
    "\n",
    "\n",
    "net = Neural_Network(2, 3, 1)    \n",
    "\n",
    "\n",
    "n_epochs = 100\n",
    "learning_rate = 0.1\n",
    "\n",
    "errors = []\n",
    "for i in range(n_epochs):\n",
    "    dw1, dw2 = get_gradient(net, X, y)\n",
    "    net.W1 = net.W1 - learning_rate * dw1\n",
    "    net.W2 = net.W2 - learning_rate * dw2\n",
    "    y_pred = net.predict(X)\n",
    "    error = mse(y_pred, y)\n",
    "    errors.append(error)\n",
    "        \n",
    "\n",
    "matplotlib.pyplot.plot(range(0, len(errors)), errors, linewidth=2)\n"
   ]
  },
  {
   "cell_type": "code",
   "execution_count": 140,
   "metadata": {},
   "outputs": [
    {
     "name": "stdout",
     "output_type": "stream",
     "text": [
      "0 0\n",
      "0 1\n",
      "0 2\n",
      "1 0\n",
      "1 1\n",
      "1 2\n",
      "2 0\n",
      "2 1\n",
      "2 2\n"
     ]
    }
   ],
   "source": [
    "def sigmoid_deriv(z):\n",
    "    return np.exp(-z) / ((1 + np.exp(-z))**2)\n",
    "\n",
    "\n",
    "def get_gradient_2(net, X, y):\n",
    "    #Compute derivative with respect to W and W2 for a given X and y:\n",
    "    y_current = self.forward(X)\n",
    "\n",
    "    delta3 = np.multiply(-(y-y_current), sigmoid_deriv(net.z3))\n",
    "    #Add gradient of regularization term:\n",
    "    dJdW2 = np.dot(net.a2.T, delta3) / X.shape[0]\n",
    "\n",
    "    delta2 = np.dot(delta3, net.W2.T) * sigmoid_deriv(self.z2)\n",
    "    #Add gradient of regularization term:\n",
    "    dJdW1 = np.dot(X.T, delta2) / X.shape[0]\n",
    "    return dJdW1, dJdW2\n",
    "\n",
    "net = Neural_Network(2, 3, 1)    \n",
    "\n",
    "\n",
    "n_epochs = 100\n",
    "learning_rate = 0.1\n",
    "\n",
    "errors = []\n",
    "for i in range(n_epochs):\n",
    "    dw1, dw2 = get_gradient_2(net, X, y)\n",
    "    net.W1 = net.W1 - learning_rate * dw1\n",
    "    net.W2 = net.W2 - learning_rate * dw2\n",
    "    y_pred = net.predict(X)\n",
    "    error = mse(y_pred, y)\n",
    "    errors.append(error)\n",
    "        \n",
    "\n",
    "matplotlib.pyplot.plot(range(0, len(errors)), errors, linewidth=2)\n"
   ]
  },
  {
   "cell_type": "code",
   "execution_count": null,
   "metadata": {},
   "outputs": [],
   "source": []
  },
  {
   "cell_type": "code",
   "execution_count": null,
   "metadata": {},
   "outputs": [],
   "source": []
  },
  {
   "cell_type": "code",
   "execution_count": null,
   "metadata": {},
   "outputs": [],
   "source": []
  },
  {
   "cell_type": "code",
   "execution_count": null,
   "metadata": {},
   "outputs": [],
   "source": []
  },
  {
   "cell_type": "code",
   "execution_count": null,
   "metadata": {},
   "outputs": [],
   "source": []
  },
  {
   "cell_type": "code",
   "execution_count": null,
   "metadata": {},
   "outputs": [],
   "source": []
  },
  {
   "cell_type": "code",
   "execution_count": null,
   "metadata": {},
   "outputs": [],
   "source": []
  },
  {
   "cell_type": "code",
   "execution_count": null,
   "metadata": {},
   "outputs": [],
   "source": []
  },
  {
   "cell_type": "code",
   "execution_count": null,
   "metadata": {},
   "outputs": [],
   "source": []
  },
  {
   "cell_type": "code",
   "execution_count": null,
   "metadata": {},
   "outputs": [],
   "source": []
  },
  {
   "cell_type": "code",
   "execution_count": 180,
   "metadata": {},
   "outputs": [],
   "source": [
    "\n",
    "#import matplotlib.pyplot as plt\n",
    "from sklearn import datasets\n",
    "\n",
    "# import some data to play with\n",
    "iris = datasets.load_iris()\n",
    "X = iris.data[:, :2]  # we only take the first two features.\n",
    "y = iris.data[:, 2]\n",
    "y = np.reshape(y, (len(y), 1))\n",
    "X = X/np.amax(X, axis=0)\n",
    "y = y/np.amax(y, axis=0)\n",
    "\n"
   ]
  },
  {
   "cell_type": "code",
   "execution_count": 182,
   "metadata": {},
   "outputs": [
    {
     "data": {
      "text/plain": [
       "[<matplotlib.lines.Line2D at 0x10debf400>]"
      ]
     },
     "execution_count": 182,
     "metadata": {},
     "output_type": "execute_result"
    },
    {
     "data": {
      "image/png": "[encoded data removed]",
      "text/plain": [
       "<matplotlib.figure.Figure at 0x10de01f28>"
      ]
     },
     "metadata": {},
     "output_type": "display_data"
    }
   ],
   "source": [
    "net = Neural_Network(2, 3, 1)    \n",
    "\n",
    "\n",
    "X = X/np.amax(X, axis=0)\n",
    "y = y/np.amax(y, axis=0)\n",
    "\n",
    "\n",
    "n_epochs = 1000\n",
    "learning_rate = 0.0001\n",
    "\n",
    "errors = []\n",
    "for i in range(n_epochs):\n",
    "    dw1, dw2 = get_gradient(net, X, y)\n",
    "    net.W1 = net.W1 - learning_rate * dw1\n",
    "    net.W2 = net.W2 - learning_rate * dw2\n",
    "    y_pred = net.predict(X)\n",
    "    error = mse(y_pred, y)\n",
    "    errors.append(error)\n",
    "        \n",
    "\n",
    "matplotlib.pyplot.plot(range(0, len(errors)), errors, linewidth=2)\n"
   ]
  },
  {
   "cell_type": "code",
   "execution_count": 195,
   "metadata": {},
   "outputs": [],
   "source": [
    "\n",
    "#import matplotlib.pyplot as plt\n",
    "from sklearn import datasets\n",
    "\n",
    "# import some data to play with\n",
    "iris = datasets.load_iris()\n",
    "X = iris.data[:, :2]  # we only take the first two features.\n",
    "labels = iris.target\n",
    "\n",
    "\n",
    "# need to shuffle\n",
    "\n",
    "shuffle_order = np.random.permutation(len(labels))\n",
    "X = X[shuffle_order, :]\n",
    "labels = labels[shuffle_order]\n",
    "\n",
    "\n",
    "X = X/np.amax(X, axis=0)\n"
   ]
  },
  {
   "cell_type": "code",
   "execution_count": 196,
   "metadata": {},
   "outputs": [],
   "source": [
    "y = np.zeros((labels.size, labels.max()+1))\n",
    "y[np.arange(labels.size), labels] = 1\n"
   ]
  },
  {
   "cell_type": "code",
   "execution_count": 198,
   "metadata": {},
   "outputs": [
    {
     "name": "stdout",
     "output_type": "stream",
     "text": [
      "[[-0.51250553 -2.39679166  0.47132639]\n",
      " [-0.54292477 -2.47303499  0.48257093]\n",
      " [-0.55697994 -2.50562414  0.47671609]\n",
      " [-0.54243528 -2.47390911  0.49015408]\n",
      " [-0.55213687 -2.49320486  0.47451724]\n",
      " [-0.55908867 -2.51360235  0.48657196]\n",
      " [-0.52475319 -2.42670532  0.47337532]\n",
      " [-0.5591054  -2.51077545  0.47657754]\n",
      " [-0.56853825 -2.53222927  0.47095282]\n",
      " [-0.55851974 -2.51438004  0.49412773]\n",
      " [-0.56489265 -2.52410012  0.47369404]\n",
      " [-0.56069049 -2.51390359  0.47398022]\n",
      " [-0.54406229 -2.47715577  0.48753925]\n",
      " [-0.5673997  -2.53386864  0.48595299]\n",
      " [-0.54730441 -2.48361278  0.48231971]\n",
      " [-0.52679816 -2.42900496  0.46322471]\n",
      " [-0.5659435  -2.52520093  0.46865578]\n",
      " [-0.58315287 -2.56865599  0.472252  ]\n",
      " [-0.57217905 -2.53740436  0.45834065]\n",
      " [-0.56331564 -2.5181134   0.46635092]\n",
      " [-0.52308866 -2.42336824  0.47596929]\n",
      " [-0.55432406 -2.50131154  0.48439205]\n",
      " [-0.51717542 -2.40794228  0.47115348]\n",
      " [-0.547788   -2.48270783  0.47476873]\n",
      " [-0.54766579 -2.47966852  0.46477622]\n",
      " [-0.52449637 -2.42350725  0.46331509]\n",
      " [-0.53427153 -2.44753281  0.4654203 ]\n",
      " [-0.51949813 -2.41349187  0.47106431]\n",
      " [-0.52577917 -2.42786369  0.4682936 ]\n",
      " [-0.56010746 -2.51752926  0.49150473]\n",
      " [-0.5445499  -2.47627157  0.47996655]\n",
      " [-0.56015749 -2.51476257  0.48149794]\n",
      " [-0.53956232 -2.45622669  0.45020986]\n",
      " [-0.53298005 -2.45041126  0.48814657]\n",
      " [-0.56697455 -2.52915913  0.47354639]\n",
      " [-0.58537628 -2.56795743  0.45245598]\n",
      " [-0.51782489 -2.41013207  0.47365511]\n",
      " [-0.54117869 -2.46678571  0.47512574]\n",
      " [-0.55748328 -2.5047192   0.46920472]\n",
      " [-0.55804607 -2.50963367  0.48164224]\n",
      " [-0.54397411 -2.47419836  0.47748742]\n",
      " [-0.55430535 -2.50410917  0.49442973]\n",
      " [-0.52051924 -2.41465209  0.46598289]\n",
      " [-0.54186813 -2.47185233  0.48766604]\n",
      " [-0.55324185 -2.49727781  0.4794527 ]\n",
      " [-0.53110814 -2.4367048   0.4530406 ]\n",
      " [-0.52550773 -2.42463582  0.45825709]\n",
      " [-0.56279792 -2.51901485  0.47383863]\n",
      " [-0.52907558 -2.44167506  0.49087458]\n",
      " [-0.55053022 -2.49002018  0.47711434]\n",
      " [-0.52245261 -2.42119937  0.47347059]\n",
      " [-0.56489265 -2.52410012  0.47369404]\n",
      " [-0.51453888 -2.39912241  0.4611624 ]\n",
      " [-0.56331564 -2.5181134   0.46635092]\n",
      " [-0.52641408 -2.4300315   0.47078508]\n",
      " [-0.52972468 -2.43665042  0.46561622]\n",
      " [-0.53110814 -2.4367048   0.4530406 ]\n",
      " [-0.52485619 -2.42244135  0.45577584]\n",
      " [-0.53367058 -2.45543943  0.50077059]\n",
      " [-0.54674043 -2.48155901  0.47984225]\n",
      " [-0.56174031 -2.51788863  0.47889284]\n",
      " [-0.57517119 -2.54912737  0.47292473]\n",
      " [-0.53671745 -2.45605779  0.47535085]\n",
      " [-0.55430535 -2.50410917  0.49442973]\n",
      " [-0.56798117 -2.53307526  0.47844124]\n",
      " [-0.56802688 -2.5302564   0.46851109]\n",
      " [-0.56853825 -2.53222927  0.47095282]\n",
      " [-0.52513992 -2.42568888  0.46580358]\n",
      " [-0.53473071 -2.44210104  0.44046797]\n",
      " [-0.56069049 -2.51390359  0.47398022]\n",
      " [-0.52807127 -2.4333466   0.46819868]\n",
      " [-0.54117869 -2.46678571  0.47512574]\n",
      " [-0.57314191 -2.54417597  0.47308487]\n",
      " [-0.56437298 -2.52211479  0.47124519]\n",
      " [-0.55204268 -2.49019866  0.46454124]\n",
      " [-0.57009732 -2.53528532  0.46836333]\n",
      " [-0.54730441 -2.48361278  0.48231971]\n",
      " [-0.54176595 -2.46887769  0.4776064 ]\n",
      " [-0.55163733 -2.49409513  0.48205737]\n",
      " [-0.52449637 -2.42350725  0.46331509]\n",
      " [-0.58598403 -2.57716641  0.47691456]\n",
      " [-0.5114792  -2.39560331  0.47642697]\n",
      " [-0.53591205 -2.4508006   0.46284228]\n",
      " [-0.5319219  -2.44919946  0.49326228]\n",
      " [-0.547788   -2.48270783  0.47476873]\n",
      " [-0.56331871 -2.5210012   0.47629151]\n",
      " [-0.56069049 -2.51390359  0.47398022]\n",
      " [-0.54243528 -2.47390911  0.49015408]\n",
      " [-0.55421375 -2.49542788  0.46441972]\n",
      " [-0.52475319 -2.42670532  0.47337532]\n",
      " [-0.52308866 -2.42336824  0.47596929]\n",
      " [-0.54996829 -2.48796836  0.47464436]\n",
      " [-0.54339301 -2.47211612  0.47500936]\n",
      " [-0.52679816 -2.42900496  0.46322471]\n",
      " [-0.52485619 -2.42244135  0.45577584]\n",
      " [-0.51949813 -2.41349187  0.47106431]\n",
      " [-0.57419884 -2.54526248  0.46805853]\n",
      " [-0.5580298  -2.50674787  0.47166121]\n",
      " [-0.52519702 -2.42133985  0.44826427]\n",
      " [-0.56437298 -2.52211479  0.47124519]\n",
      " [-0.55751592 -2.50763395  0.47917869]\n",
      " [-0.56853825 -2.53222927  0.47095282]\n",
      " [-0.51586474 -2.40354413  0.46615471]\n",
      " [-0.54786289 -2.48565708  0.4847981 ]\n",
      " [-0.55484215 -2.5004476   0.47685171]\n",
      " [-0.55538502 -2.50246841  0.47931715]\n",
      " [-0.53427153 -2.44753281  0.4654203 ]\n",
      " [-0.52909087 -2.43448364  0.46313231]\n",
      " [-0.54299705 -2.47595652  0.49264287]\n",
      " [-0.56437298 -2.52211479  0.47124519]\n",
      " [-0.58682779 -2.58081876  0.48175725]\n",
      " [-0.52513992 -2.42568888  0.46580358]\n",
      " [-0.5314553  -2.43559531  0.44555183]\n",
      " [-0.5596344  -2.51277413  0.47903727]\n",
      " [-0.52051924 -2.41465209  0.46598289]\n",
      " [-0.54624492 -2.48243571  0.48740971]\n",
      " [-0.54568536 -2.48039039  0.48492776]\n",
      " [-0.5253843  -2.42886654  0.47587179]\n",
      " [-0.52743692 -2.43117931  0.46571094]\n",
      " [-0.54129565 -2.46978633  0.48517882]\n",
      " [-0.51381771 -2.40119104  0.47633918]\n",
      " [-0.54730441 -2.48361278  0.48231971]\n",
      " [-0.58137339 -2.55822545  0.45276697]\n",
      " [-0.55961703 -2.50987801  0.46907189]\n",
      " [-0.54663486 -2.47855599  0.46982674]\n",
      " [-0.52475319 -2.42670532  0.47337532]\n",
      " [-0.55477835 -2.49748634  0.46687656]\n",
      " [-0.55213687 -2.49320486  0.47451724]\n",
      " [-0.53403145 -2.45160519  0.4830416 ]\n",
      " [-0.58511397 -2.57346794  0.47207566]\n",
      " [-0.55477835 -2.49748634  0.46687656]\n",
      " [-0.55908867 -2.51360235  0.48657196]\n",
      " [-0.52384862 -2.42131896  0.46082821]\n",
      " [-0.53010322 -2.4356031   0.45807942]\n",
      " [-0.55748328 -2.5047192   0.46920472]\n",
      " [-0.52767059 -2.43434545  0.47577215]\n",
      " [-0.52847203 -2.43956003  0.48837162]\n",
      " [-0.57765613 -2.55595526  0.475193  ]\n",
      " [-0.58010583 -2.56271992  0.47745277]\n",
      " [-0.53855935 -2.45515099  0.45523186]\n",
      " [-0.5596344  -2.51277413  0.47903727]\n",
      " [-0.52058282 -2.42190483  0.49381848]\n",
      " [-0.54730441 -2.48361278  0.48231971]\n",
      " [-0.52485619 -2.42244135  0.45577584]\n",
      " [-0.55269219 -2.49524617  0.47698445]\n",
      " [-0.5445499  -2.47627157  0.47996655]\n",
      " [-0.55324185 -2.49727781  0.4794527 ]\n",
      " [-0.51446809 -2.40338162  0.47884765]\n",
      " [-0.54234799 -2.47096083  0.48008816]\n",
      " [-0.53238719 -2.44105777  0.45798752]]\n"
     ]
    }
   ],
   "source": [
    "def softmax(y_pred, y_actual):\n",
    "    return sum((y_actual-y_pred)**2)\n",
    "\n",
    "# softmax\n",
    "z = y_pred\n",
    "z_exp = [math.exp(i) for i in z]\n",
    "\n",
    "# categorical cross-entropy loss\n",
    "\n",
    "\n",
    "n_classes = 3\n",
    "net = Neural_Network(2, 3, n_classes)    \n",
    "\n",
    "\n",
    "y_pred = net.predict(X)\n",
    "print(y_pred)\n",
    "\n"
   ]
  },
  {
   "cell_type": "code",
   "execution_count": null,
   "metadata": {},
   "outputs": [],
   "source": [
    "\n",
    "def get_gradient(net, X, y):\n",
    "    w_delta = 1e-8\n",
    "\n",
    "    y_pred_current = net.predict(X)\n",
    "    error_current = softmax(y_pred_current, y)\n",
    "\n",
    "    dw1, dw2 = np.zeros((net.n0, net.n1)), np.zeros((net.n1, net.n2))\n",
    "    W1, W2 = np.copy(net.W1), np.copy(net.W2) \n",
    "    \n",
    "    for i, j in itertools.product(range(net.n0), range(net.n1)):\n",
    "        net.W1 = np.copy(W1)\n",
    "        net.W1[i][j] += w_delta\n",
    "        y_pred = net.predict(X)\n",
    "        error = softmax(y_pred, y)\n",
    "        dw1[i][j] = (error - error_current) / w_delta\n",
    "\n",
    "    for i, j in itertools.product(range(net.n1), range(net.n2)):\n",
    "        net.W2 = np.copy(W2)\n",
    "        net.W2[i][j] += w_delta\n",
    "        y_pred = net.predict(X)\n",
    "        error = softmax(y_pred, y)\n",
    "        dw2[i][j] = (error - error_current) / w_delta\n",
    "\n",
    "    net.W1, net.W2 = np.copy(W1), np.copy(W2)\n",
    "\n",
    "    return dw1, dw2\n",
    "\n",
    "\n",
    "\n",
    "n_epochs = 100\n",
    "learning_rate = 0.1\n",
    "\n",
    "errors = []\n",
    "for i in range(n_epochs):\n",
    "    dw1, dw2 = get_gradient(net, X, y)\n",
    "    net.W1 = net.W1 - learning_rate * dw1\n",
    "    net.W2 = net.W2 - learning_rate * dw2\n",
    "    y_pred = net.predict(X)\n",
    "    error = mse(y_pred, y)\n",
    "    errors.append(error)\n",
    "        \n",
    "\n",
    "matplotlib.pyplot.plot(range(0, len(errors)), errors, linewidth=2)\n"
   ]
  },
  {
   "cell_type": "code",
   "execution_count": null,
   "metadata": {},
   "outputs": [],
   "source": []
  }
 ],
 "metadata": {
  "kernelspec": {
   "display_name": "Python 3",
   "language": "python",
   "name": "python3"
  },
  "language_info": {
   "codemirror_mode": {
    "name": "ipython",
    "version": 3
   },
   "file_extension": ".py",
   "mimetype": "text/x-python",
   "name": "python",
   "nbconvert_exporter": "python",
   "pygments_lexer": "ipython3",
   "version": "3.5.3"
  }
 },
 "nbformat": 4,
 "nbformat_minor": 2
}
