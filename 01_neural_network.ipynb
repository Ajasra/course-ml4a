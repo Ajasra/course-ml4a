{
 "cells": [
  {
   "cell_type": "markdown",
   "metadata": {},
   "source": [
    "# Session 2: Linear regression, classification, k-Nearest Neighbors\n",
    "\n",
    "In this session, we will introduce the task of linear regression, the simplest type of machine learning problem. From there, we will learn about classification, and look at a naive way of doing it using a method called k-Nearest Neighbors.\n",
    "\n",
    "\n",
    "?-> neural nets"
   ]
  },
  {
   "cell_type": "markdown",
   "metadata": {},
   "source": [
    "## Linear Regression\n",
    "\n",
    "We are first going to introduce a the most basic machine learning problem, that of fitting a line to a set of points.  Consider the following dataset:"
   ]
  },
  {
   "cell_type": "code",
   "execution_count": 1,
   "metadata": {},
   "outputs": [],
   "source": [
    "import numpy as np\n",
    "\n",
    "data = np.array([\n",
    "    [2.4, 1.7], \n",
    "    [2.8, 1.85], \n",
    "    [3.2, 1.79], \n",
    "    [3.6, 1.95], \n",
    "    [4.0, 2.1], \n",
    "    [4.2, 2.0], \n",
    "    [5.0, 2.7]\n",
    "])"
   ]
  },
  {
   "cell_type": "markdown",
   "metadata": {},
   "source": [
    "We have a series of {x,y} pairs. We can plot them with a scatterplot."
   ]
  },
  {
   "cell_type": "code",
   "execution_count": 3,
   "metadata": {},
   "outputs": [
    {
     "data": {
      "text/plain": [
       "<matplotlib.collections.PathCollection at 0x108630320>"
      ]
     },
     "execution_count": 3,
     "metadata": {},
     "output_type": "execute_result"
    },
    {
     "data": {
      "image/png": "[encoded data removed]",
      "text/plain": [
       "<matplotlib.figure.Figure at 0x1085ba860>"
      ]
     },
     "metadata": {},
     "output_type": "display_data"
    }
   ],
   "source": [
    "import matplotlib.pyplot as plt\n",
    "\n",
    "x, y = data[:,0], data[:,1]\n",
    "\n",
    "plt.figure(figsize=(4, 3))\n",
    "plt.scatter(x, y)"
   ]
  },
  {
   "cell_type": "markdown",
   "metadata": {},
   "source": [
    "The goal of linear regression is to find a line, $y = mx + b$ which fits the data points as well as possible. \n",
    "\n",
    "What does it mean for it to fit the points \"as well as possible\"? Let's try three random lines and compare them.  We will define the following three functions as candidates:\n",
    "\n",
    "$$f1(x) = 0.92x-1.0$$\n",
    "$$f2(x) = -0.21x+3.4$$\n",
    "$$f3(x) = 0.52x+0.1$$"
   ]
  },
  {
   "cell_type": "code",
   "execution_count": 28,
   "metadata": {},
   "outputs": [
    {
     "name": "stdout",
     "output_type": "stream",
     "text": [
      "f1(-1.0) = -1.92\n",
      "f2( 0.0) = 3.40\n",
      "f3( 2.0) = 1.14\n"
     ]
    }
   ],
   "source": [
    "def f1(x):\n",
    "    return 0.92 * x - 1.0\n",
    "\n",
    "def f2(x):\n",
    "    return -0.21 * x + 3.4\n",
    "\n",
    "def f3(x):\n",
    "    return 0.52 * x + 0.1\n",
    "\n",
    "# try some examples\n",
    "print(\"f1(-1.0) = %0.2f\" % f1(-1))\n",
    "print(\"f2( 0.0) = %0.2f\" % f2(0))\n",
    "print(\"f3( 2.0) = %0.2f\" % f3(2))"
   ]
  },
  {
   "cell_type": "markdown",
   "metadata": {},
   "source": [
    "Let's plot all three of these functions and see how well each of them fit the points in our dataset."
   ]
  },
  {
   "cell_type": "code",
   "execution_count": 29,
   "metadata": {},
   "outputs": [
    {
     "data": {
      "text/plain": [
       "<matplotlib.text.Text at 0x1098094e0>"
      ]
     },
     "execution_count": 29,
     "metadata": {},
     "output_type": "execute_result"
    },
    {
     "data": {
      "image/png": "[encoded data removed]",
      "text/plain": [
       "<matplotlib.figure.Figure at 0x10957c4e0>"
      ]
     },
     "metadata": {},
     "output_type": "display_data"
    }
   ],
   "source": [
    "min_x, max_x = min(x), max(x)\n",
    "\n",
    "fig = plt.figure(figsize=(10,3))\n",
    "\n",
    "fig.add_subplot(131)\n",
    "plt.scatter(x, y)\n",
    "plt.plot([min_x, max_x], [f1(min_x), f1(max_x)], 'k-')\n",
    "plt.title(\"f1\")\n",
    "\n",
    "fig.add_subplot(132)\n",
    "plt.scatter(x, y)\n",
    "plt.plot([min_x, max_x], [f2(min_x), f2(max_x)], 'k-')\n",
    "plt.title(\"f2\")\n",
    "\n",
    "fig.add_subplot(133)\n",
    "plt.scatter(x, y)\n",
    "plt.plot([min_x, max_x], [f3(min_x), f3(max_x)], 'k-')\n",
    "plt.title(\"f3\")"
   ]
  },
  {
   "cell_type": "markdown",
   "metadata": {},
   "source": [
    "Intuitively, it looks like $f1$ and $f3$ come closest to a good fit, with $f3$ looking somewhat better than $f1$, and $f2$ showing the worst fit. But how do we formally express how good a fit is? We define a \"cost\" function which expresses the total error between the points predicted by the line, and those of the actual dataset.\n",
    "\n",
    "One very popular measure of this called the \"mean squared error,\" which we will denote as $J$, which is the average of the square differences between the data points and the line. Another name for MSE is the \"L2-distance.\" \n",
    "\n",
    "$$ J = \\frac{1}{n} \\sum_i{(y_i - f(x_i))^2} $$\n",
    "\n",
    "Intuitively, for each pair of points $(x_i, y_i)$, the quantity $y_i - f(x_i)$ is the difference between the actual point $y_i$ and the y-value predicted by the line at $x_i$. Then we square them  (to penalize large distances more) and average them by diving by $n$, which is the number of samples in the dataset. \n",
    "\n",
    "Since the function $f(x_i) = m x_i + b$, we can substitute that into the error, and get:\n",
    "\n",
    "$$ J = \\frac{1}{n} \\sum_i{(y_i - (mx_i + b))^2} $$\n"
   ]
  },
  {
   "cell_type": "code",
   "execution_count": 30,
   "metadata": {},
   "outputs": [],
   "source": [
    "def MSE(y_pred, y_actual):\n",
    "    n = np.size(y_pred)\n",
    "    return (1.0 / n) * np.sum((y_actual-y_pred)**2)\n"
   ]
  },
  {
   "cell_type": "code",
   "execution_count": 31,
   "metadata": {},
   "outputs": [
    {
     "name": "stdout",
     "output_type": "stream",
     "text": [
      "J1=0.34, J2=0.62, J3=0.04\n"
     ]
    }
   ],
   "source": [
    "x, y = data[:,0], data[:,1]\n",
    "\n",
    "J1 = MSE(f1(x), y)\n",
    "J2 = MSE(f2(x), y)\n",
    "J3 = MSE(f3(x), y)\n",
    "\n",
    "print(\"J1=%0.2f, J2=%0.2f, J3=%0.2f\" % (J1, J2, J3))"
   ]
  },
  {
   "cell_type": "markdown",
   "metadata": {},
   "source": [
    "As we expected, the third function has the lowest error rate.\n",
    "\n",
    "What is a good method for finding the optimal $m$ and $b$ to get the lowest error rate? The naive way would be to simply have the computer make millions of guesses like this and keep the one that happens to have the best error rate. Computers are pretty fast, so why not? For our simple problem with two parameters, this would work fine. But in real-world scenarios, we are often dealing with dozens, hundreds, or even millions of parameters which have to be optimized at the same time. Making guesses does not scale to a large number of dimensions. No computer is fast enough to try enough guesses to get a reasonable answer.\n",
    "\n",
    "So we need a more formal method for this. We can get an idea of how we might do this by first observing the loss surface. We'll plot the MSE of every combination of $m$ and $b$ within some range and look at it first. Note: recall that for this toy problem, calculating MSE for all combinations of our two parameters is easy to do because there'sa small number of combinations. In problems where we have thousands or more parameters, it will be infeasible to do this practically because there will be too many parameter combinations to try (which is the reason we need a better method than brute force guessing to begin with). For 2 parameters, we observe the loss surface just for demonstration purposes.\n"
   ]
  },
  {
   "cell_type": "code",
   "execution_count": 41,
   "metadata": {},
   "outputs": [
    {
     "data": {
      "text/plain": [
       "<matplotlib.text.Text at 0x10c55ce80>"
      ]
     },
     "execution_count": 41,
     "metadata": {},
     "output_type": "execute_result"
    },
    {
     "data": {
      "image/png": "[encoded data removed]",
      "text/plain": [
       "<matplotlib.figure.Figure at 0x10bf3c5f8>"
      ]
     },
     "metadata": {},
     "output_type": "display_data"
    }
   ],
   "source": [
    "from mpl_toolkits.mplot3d import Axes3D\n",
    "\n",
    "fig = plt.figure()\n",
    "ax = fig.gca(projection='3d')\n",
    "\n",
    "# check all combinations of m between [-4, 4] and b between [-4, 4], to precision of 0.1\n",
    "M = np.arange(-2, 4, 0.1)\n",
    "B = np.arange(-6, 8, 0.1)\n",
    "\n",
    "# get MSE at every combination\n",
    "J = np.zeros((len(M), len(B)))\n",
    "for i, m_ in enumerate(M):\n",
    "    for j, b_ in enumerate(B):\n",
    "        J[i][j] = MSE(m_*x+b_, y)\n",
    "\n",
    "# plot loss surface\n",
    "B, M = np.meshgrid(B, M)\n",
    "ax.plot_surface(B, M, J, rstride=1, cstride=1, cmap=plt.cm.coolwarm, linewidth=0, antialiased=False)\n",
    "plt.xlabel(\"B\")\n",
    "plt.ylabel(\"M\")"
   ]
  },
  {
   "cell_type": "markdown",
   "metadata": {},
   "source": [
    "Our loss surface looks a bit like an elongated bowl. Because our goal is to find the parameters $m$ and $b$ which give us the lowest possible error, this translates to finding the point at the bottom of that bowl. By eye, it looks like it's roughly around $m=0, b=2$. \n",
    "\n",
    "### Gradient descent\n",
    "\n",
    "Let's now define a better method for actually finding this point. The method we are going to introduce is called \"gradient descent.\" Note, there is a much easier way to do linear regression than to use gradient descent, but we will use gradient descent anyway, because later on, when we introduce neural networks, we shall see that gradient descent is the best way by which to find the optimal parameters for them. So we introduce gradient descent in the context of a simple problem first.\n",
    "\n",
    "Gradient descent will be discussed in more detail in the next two sessions. To get ahead, you can read [this ml4a chapter](https://ml4a.github.io/ml4a/how_neural_networks_are_trained/) for a more thorough introduction.\n",
    "\n",
    "The basic idea behind gradient descent is as follows. Start with a random guess about the parameters, and then calculate the gradient of the loss function with respect to the parameters. Recall from the previous session that the gradient of a function is the vector containing each of the partial derivatives of its variables, i.e.\n",
    "\n",
    "$$\n",
    "\\nabla f(X) = \\left[ \\frac{\\partial f}{\\partial x_1}, \\frac{\\partial f}{\\partial x_2}, ..., \\frac{\\partial f}{\\partial x_n}  \\right]\n",
    "$$\n",
    "\n",
    "Our loss function $J$ has two parameters: the slope $m$ and y-intercept $b$. Thus its gradient is:\n",
    "\n",
    "$$\n",
    "\\nabla J = \\left[ \\frac{\\partial J}{\\partial m}, \\frac{\\partial J}{\\partial b} \\right]\n",
    "$$\n",
    "\n",
    "The interpretation of the gradient is that it gives us the slope in every dimension of the loss function at any $m$ and $b$. What gradient descent does is it evaluates the slope of the loss function at the current parameters, and then takes a small step in the exact opposite direction (because the slope is upward). This has the effect of moving $m$ and $b$ to a place where the error is a bit lower than it was before. Repeat this process many times until the loss stops descending (because we have reached the bottom) and you are finished. This is the basic idea.\n",
    "\n",
    "How can we actually calculate the partial derivatives: $\\frac{\\partial J}{\\partial m}$ and $\\frac{\\partial J}{\\partial b}$? We must differentiate $J$ with respect to these two parameters.\n",
    "\n",
    "Recall:\n",
    "\n",
    "$$ J(m,b) = \\frac{1}{n} \\sum_i{(y_i - (mx_i + b))^2} $$\n",
    "\n",
    "Let's start with $\\frac{\\partial J}{\\partial m}$. We can derive its partial derivative with the following steps:\n",
    "\n",
    "$$ \\frac{\\partial J}{\\partial m} = \\frac{\\partial}{\\partial m} \\begin{bmatrix} \\frac{1}{n} \\sum_i{(y_i - (mx_i + b))^2} \\end{bmatrix}  $$ \n",
    "\n",
    "$$ \\frac{\\partial J}{\\partial m} =  \\frac{1}{n} \\sum_i{ \\frac{\\partial}{\\partial m} (y_i - (mx_i + b))^2}  $$ \n",
    "\n",
    "$$ \\frac{\\partial J}{\\partial m} =  \\frac{1}{n} \\sum_i{ -2 x_i \\cdot (y_i - (mx_i + b))}  $$ \n",
    "\n",
    "$$ \\frac{\\partial J}{\\partial m} = -\\frac{2}{n} \\sum_i{x_i \\cdot (y_i - (mx_i + b))} $$\n",
    "\n",
    "For $\\frac{\\partial J}{\\partial b}$, the partial derivative is found:\n",
    "\n",
    "$$ \\frac{\\partial J}{\\partial b} = \\frac{\\partial}{\\partial b} \\frac{1}{n} \\sum_i{(y_i - (mx_i + b))^2}  $$ \n",
    "\n",
    "$$ \\frac{\\partial J}{\\partial b} = \\frac{1}{n} \\sum_i{ \\frac{\\partial}{\\partial b} (y_i - (mx_i + b))^2}  $$ \n",
    "\n",
    "$$ \\frac{\\partial J}{\\partial b} = \\frac{1}{n} \\sum_i{ -2 \\cdot (y_i - (mx_i + b))}  $$ \n",
    "\n",
    "$$ \\frac{\\partial J}{\\partial b} = -\\frac{2}{n} \\sum_i{(y_i - (mx_i + b))} $$\n",
    "\n",
    "So to summarize, we have found:\n",
    "\n",
    "$$ \\frac{\\partial J}{\\partial m} = -\\frac{2}{n} \\sum_i{x_i \\cdot (y_i - (mx_i + b))} $$\n",
    "$$ \\frac{\\partial J}{\\partial b} = -\\frac{2}{n} \\sum_i{(y_i - (mx_i + b))} $$\n",
    "\n",
    "We can then define the following update rule, where we calculate the gradient and then adjust the parameters $m$ and $b$:\n",
    "\n",
    "$$ m := m - \\alpha \\cdot \\frac{\\partial J}{\\partial m} $$\n",
    "\n",
    "$$ b := b - \\alpha \\cdot \\frac{\\partial J}{\\partial b} $$\n",
    "\n",
    "Where $\\alpha$ is a hyperparameter called the \"learning rate\" that controls the size of the update step. In simple gradient descent, the learning rate must be chosen manually, but as we shall seee later, there are more complex variants of gradient descent which automatically pick and adjust the learning rate during training. If we set $\\alpha$ too high, we may overshoot the best trajectory, whereas if we set it too low, learning may take an unacceptably long time. Typical values of this are 0.01, 0.001, 0.0001 and so on.\n",
    "\n",
    "Let's implement this in code:"
   ]
  },
  {
   "cell_type": "code",
   "execution_count": 594,
   "metadata": {},
   "outputs": [
    {
     "name": "stdout",
     "output_type": "stream",
     "text": [
      "initial parameters: m=0.800, b=-0.500\n",
      "initial MSE = 2.088\n",
      "final parameters: m=0.339, b=0.793\n",
      "final MSE = 0.126\n"
     ]
    },
    {
     "data": {
      "image/png": "[encoded data removed]",
      "text/plain": [
       "<matplotlib.figure.Figure at 0x136eef9b0>"
      ]
     },
     "metadata": {},
     "output_type": "display_data"
    }
   ],
   "source": [
    "import random\n",
    "\n",
    "# choose a random initial m, b\n",
    "m, b = 0.8, -0.5\n",
    "\n",
    "# what is our error?\n",
    "init_mse = mse(m*x+b, y)\n",
    "\n",
    "print(\"initial parameters: m=%0.3f, b=%0.3f\"%(m, b))\n",
    "print(\"initial MSE = %0.3f\" % init_mse)\n",
    "\n",
    "# implement partial derivatives of our parameters\n",
    "# not len(y) should be shape data\n",
    "def dJdm(data, m, b):\n",
    "    x, y = data[:,0], data[:,1]\n",
    "    return (-2.0 / len(y)) * np.dot(x, y - (m * x + b))\n",
    "\n",
    "def dJdb(data, m, b):\n",
    "    x, y = data[:,0], data[:,1]\n",
    "    return (-2.0 / len(y)) * np.sum(y - (m * x + b))\n",
    "\n",
    "# choose the alpha parameter and number of iterations\n",
    "alpha = 0.01\n",
    "n_iters = 5000\n",
    "\n",
    "# keep track of error\n",
    "errors = []\n",
    "for i in range(n_iters):\n",
    "    m = m - alpha * dJdm(data, m, b)\n",
    "    b = b - alpha * dJdb(data, m, b)\n",
    "    j = mse(m * x + b, y)\n",
    "    #print(m, b, j)\n",
    "    errors.append(j)\n",
    "    \n",
    "# plot it\n",
    "\n",
    "plt.figure(figsize=(12, 3))\n",
    "plt.plot(range(n_iters), errors, linewidth=2)\n",
    "plt.title(\"MSE by iteration\")\n",
    "plt.ylabel(\"MSE\")\n",
    "plt.xlabel(\"iterations\")\n",
    "\n",
    "# what is our final error rate\n",
    "final_mse = mse(m*x+b, y)\n",
    "\n",
    "print(\"final parameters: m=%0.3f, b=%0.3f\"%(m, b))\n",
    "print(\"final MSE = %0.3f\" % final_mse)\n"
   ]
  },
  {
   "cell_type": "markdown",
   "metadata": {},
   "source": [
    "The procedure that we just demonstrated is called \"gradient descent.\" It's not actually necessary to do linear regression, because linear regression can be solved analytically. However, in the next section we will introduce neural networks, which can not be optimized analytically, and thus will require gradient descent to train."
   ]
  },
  {
   "cell_type": "code",
   "execution_count": null,
   "metadata": {},
   "outputs": [],
   "source": []
  },
  {
   "cell_type": "code",
   "execution_count": null,
   "metadata": {},
   "outputs": [],
   "source": []
  },
  {
   "cell_type": "markdown",
   "metadata": {},
   "source": [
    "## Classification\n",
    "\n",
    "Consider the following small dataset:"
   ]
  },
  {
   "cell_type": "code",
   "execution_count": 736,
   "metadata": {},
   "outputs": [
    {
     "data": {
      "text/html": [
       "<table>\n",
       "<tbody>\n",
       "<tr><td>class</td><td>Humidity (%)</td><td>Pressure (kPa)</td></tr>\n",
       "<tr><td>Sun  </td><td>29.0        </td><td>101.7         </td></tr>\n",
       "<tr><td>Rain </td><td>60.0        </td><td>98.6          </td></tr>\n",
       "<tr><td>Sun  </td><td>40.0        </td><td>101.1         </td></tr>\n",
       "<tr><td>Rain </td><td>62.0        </td><td>99.9          </td></tr>\n",
       "<tr><td>Sun  </td><td>39.0        </td><td>103.2         </td></tr>\n",
       "<tr><td>Rain </td><td>51.0        </td><td>97.6          </td></tr>\n",
       "<tr><td>Sun  </td><td>46.0        </td><td>102.1         </td></tr>\n",
       "<tr><td>Rain </td><td>55.0        </td><td>100.2         </td></tr>\n",
       "</tbody>\n",
       "</table>"
      ],
      "text/plain": [
       "<IPython.core.display.HTML object>"
      ]
     },
     "metadata": {},
     "output_type": "display_data"
    }
   ],
   "source": [
    "from IPython.display import HTML, display\n",
    "import tabulate\n",
    "\n",
    "# toy datast of whether or not it will be rainy or sunny\n",
    "feature_names = [\"Humidity (%)\", \"Pressure (kPa)\"]\n",
    "data = [[29, 101.7], [60, 98.6], [40, 101.1], [62, 99.9], [39, 103.2], [51, 97.6], [46, 102.1], [55, 100.2]]\n",
    "labels = [\"Sun\",\"Rain\",\"Sun\",\"Rain\",\"Sun\",\"Rain\",\"Sun\",\"Rain\"]\n",
    "\n",
    "# display table\n",
    "table_labels = np.array(['class']+feat_names).reshape((1, 1+len(feature_names)))\n",
    "table_data = np.concatenate([np.array(labels).reshape(len(data), 1), data], axis=1)\n",
    "table_full = np.concatenate([table_labels, table_data], axis=0)\n",
    "display(HTML(tabulate.tabulate(table_full, tablefmt='html')))"
   ]
  },
  {
   "cell_type": "markdown",
   "metadata": {},
   "source": [
    "We can plot these points on a scatterplot. In the following, a `+` means \"Rain\" and a `-` is \"Sun\" (no rain).\n",
    "\n",
    "![classification](http://ml4a.github.io/images/lin_classifier_2d.png)\n",
    "\n",
    "Classification is defined as the task of predicting the correct label or category of an unknown point. With two classes, we divide the data space into two halves, one for each class. So when we receive a new point, we simply find which side of the partition the point is in.\n",
    "\n",
    "![classification](http://ml4a.github.io/images/lin_classifier_2d_newpt.png)"
   ]
  },
  {
   "cell_type": "markdown",
   "metadata": {},
   "source": [
    "## k-nearest neighbors classification\n",
    "\n",
    "We will introduce a simple technique for classification called k-nearest neighbors classification (kNN). Before doing that, we are going to scale up our problem with a slightly more realistic dataset called [Iris](https://en.wikipedia.org/wiki/Iris_flower_data_set), which is commonly used to introduce data science tasks.\n",
    "\n",
    "Iris is a dataset containing 150 samples of flowers of the Iris genus, belonging to three different species (Iris setosa, Iris virginica, Iris versicolor). The dataset records their species (which is the class label), along with the following features: Petal Length, Petal Width, Sepal Length, and Sepal width. \n",
    "\n",
    "In the next cell, we import the dataset, and shuffle it."
   ]
  },
  {
   "cell_type": "code",
   "execution_count": 744,
   "metadata": {},
   "outputs": [],
   "source": [
    "import numpy as np\n",
    "from sklearn.datasets import load_iris\n",
    "\n",
    "# load iris and grab our data and labels\n",
    "iris = load_iris()\n",
    "labels, data = iris.target, iris.data\n",
    "\n",
    "num_samples = len(labels)  # size of our dataset\n",
    "num_features = len(iris.feature_names)  # number of columns/variables\n",
    "\n",
    "# shuffle the dataset\n",
    "shuffle_order = np.random.permutation(num_samples)\n",
    "data = data[shuffle_order, :]\n",
    "labels = labels[shuffle_order]\n"
   ]
  },
  {
   "cell_type": "markdown",
   "metadata": {},
   "source": [
    "Let's view a table showing the first 20 samples."
   ]
  },
  {
   "cell_type": "code",
   "execution_count": 745,
   "metadata": {},
   "outputs": [
    {
     "data": {
      "text/html": [
       "<table>\n",
       "<tbody>\n",
       "<tr><td>class     </td><td>sepal length (cm)</td><td>sepal width (cm)</td><td>petal length (cm)</td><td>petal width (cm)</td></tr>\n",
       "<tr><td>setosa    </td><td>5.4              </td><td>3.4             </td><td>1.5              </td><td>0.4             </td></tr>\n",
       "<tr><td>virginica </td><td>7.2              </td><td>3.0             </td><td>5.8              </td><td>1.6             </td></tr>\n",
       "<tr><td>versicolor</td><td>6.6              </td><td>2.9             </td><td>4.6              </td><td>1.3             </td></tr>\n",
       "<tr><td>virginica </td><td>6.8              </td><td>3.0             </td><td>5.5              </td><td>2.1             </td></tr>\n",
       "<tr><td>virginica </td><td>6.4              </td><td>3.1             </td><td>5.5              </td><td>1.8             </td></tr>\n",
       "<tr><td>setosa    </td><td>4.9              </td><td>3.1             </td><td>1.5              </td><td>0.1             </td></tr>\n",
       "<tr><td>versicolor</td><td>5.8              </td><td>2.7             </td><td>4.1              </td><td>1.0             </td></tr>\n",
       "<tr><td>setosa    </td><td>4.6              </td><td>3.1             </td><td>1.5              </td><td>0.2             </td></tr>\n",
       "<tr><td>virginica </td><td>6.4              </td><td>2.8             </td><td>5.6              </td><td>2.1             </td></tr>\n",
       "<tr><td>virginica </td><td>7.2              </td><td>3.6             </td><td>6.1              </td><td>2.5             </td></tr>\n",
       "<tr><td>virginica </td><td>6.0              </td><td>3.0             </td><td>4.8              </td><td>1.8             </td></tr>\n",
       "<tr><td>setosa    </td><td>4.7              </td><td>3.2             </td><td>1.6              </td><td>0.2             </td></tr>\n",
       "<tr><td>versicolor</td><td>5.7              </td><td>3.0             </td><td>4.2              </td><td>1.2             </td></tr>\n",
       "<tr><td>setosa    </td><td>4.8              </td><td>3.0             </td><td>1.4              </td><td>0.1             </td></tr>\n",
       "<tr><td>setosa    </td><td>5.1              </td><td>3.8             </td><td>1.5              </td><td>0.3             </td></tr>\n",
       "<tr><td>versicolor</td><td>6.2              </td><td>2.2             </td><td>4.5              </td><td>1.5             </td></tr>\n",
       "<tr><td>setosa    </td><td>5.4              </td><td>3.9             </td><td>1.3              </td><td>0.4             </td></tr>\n",
       "<tr><td>virginica </td><td>7.9              </td><td>3.8             </td><td>6.4              </td><td>2.0             </td></tr>\n",
       "<tr><td>setosa    </td><td>5.1              </td><td>3.8             </td><td>1.9              </td><td>0.4             </td></tr>\n",
       "<tr><td>setosa    </td><td>5.0              </td><td>3.5             </td><td>1.6              </td><td>0.6             </td></tr>\n",
       "</tbody>\n",
       "</table>"
      ],
      "text/plain": [
       "<IPython.core.display.HTML object>"
      ]
     },
     "metadata": {},
     "output_type": "display_data"
    }
   ],
   "source": [
    "label_names = np.array([iris.target_names[l] for l in labels])\n",
    "table_labels = np.array(['class']+iris.feature_names).reshape((1, 1+num_features))\n",
    "class_names = iris.target_names\n",
    "table_data = np.concatenate([np.array(label_names).reshape(num_samples, 1), data], axis=1)[0:20]\n",
    "\n",
    "# display table\n",
    "table_full = np.concatenate([table_labels, table_data], axis=0)\n",
    "display(HTML(tabulate.tabulate(table_full, tablefmt='html')))\n"
   ]
  },
  {
   "cell_type": "markdown",
   "metadata": {},
   "source": [
    "For simplicity, we will restrict our attention to just the first two features, sepal width and sepal length. Let's plot the dataset."
   ]
  },
  {
   "cell_type": "code",
   "execution_count": 746,
   "metadata": {},
   "outputs": [
    {
     "data": {
      "text/plain": [
       "<matplotlib.text.Text at 0x137e2c7f0>"
      ]
     },
     "execution_count": 746,
     "metadata": {},
     "output_type": "execute_result"
    },
    {
     "data": {
      "image/png": "[encoded data removed]",
      "text/plain": [
       "<matplotlib.figure.Figure at 0x135f51048>"
      ]
     },
     "metadata": {},
     "output_type": "display_data"
    }
   ],
   "source": [
    "import matplotlib.pyplot as plt\n",
    "\n",
    "# plot the original data\n",
    "x, y, lab = data[:, 0], data[:, 1], labels\n",
    "\n",
    "plt.figure(figsize=(8, 6))\n",
    "plt.scatter(x, y, c=lab)\n",
    "plt.xlabel('Sepal length')\n",
    "plt.ylabel('Sepal width')\n",
    "plt.title('Iris dataset')\n"
   ]
  },
  {
   "cell_type": "markdown",
   "metadata": {},
   "source": [
    "Suppose we are given a new point whose sepal length (`x`) and sepal width (`y`) are the following:"
   ]
  },
  {
   "cell_type": "code",
   "execution_count": 747,
   "metadata": {},
   "outputs": [],
   "source": [
    "new_x, new_y = 6.5, 3.7"
   ]
  },
  {
   "cell_type": "markdown",
   "metadata": {},
   "source": [
    "Let's plot it on the graph. What could its class be?"
   ]
  },
  {
   "cell_type": "code",
   "execution_count": 748,
   "metadata": {},
   "outputs": [
    {
     "data": {
      "text/plain": [
       "<matplotlib.text.Annotation at 0x12a04a6a0>"
      ]
     },
     "execution_count": 748,
     "metadata": {},
     "output_type": "execute_result"
    },
    {
     "data": {
      "image/png": "[encoded data removed]",
      "text/plain": [
       "<matplotlib.figure.Figure at 0x12aad8f98>"
      ]
     },
     "metadata": {},
     "output_type": "display_data"
    }
   ],
   "source": [
    "# plot the original data\n",
    "x, y, lab = data[:, 0], data[:, 1], labels\n",
    "\n",
    "plt.figure(figsize=(8, 6))\n",
    "plt.scatter(x, y, c=lab)\n",
    "plt.xlabel('Sepal length')\n",
    "plt.ylabel('Sepal width')\n",
    "plt.title('Iris dataset')\n",
    "\n",
    "# put the new point on top\n",
    "plt.scatter(new_x, new_y, c=0, cmap=None, edgecolor='k')\n",
    "plt.annotate('?', (new_x+0.45, new_y+0.25), fontsize=20, horizontalalignment='center', verticalalignment='center')\n",
    "plt.annotate(\"\", xytext=(new_x+0.4, new_y+0.2), xy=(new_x+0.05, new_y), arrowprops=dict(arrowstyle=\"->\"))\n"
   ]
  },
  {
   "cell_type": "markdown",
   "metadata": {},
   "source": [
    "Our simple approach to predicting the new point's label is to find the point in the dataset which is closest to the new point, and copying its label."
   ]
  },
  {
   "cell_type": "code",
   "execution_count": 749,
   "metadata": {},
   "outputs": [
    {
     "name": "stdout",
     "output_type": "stream",
     "text": [
      "Predicted label: 2\n"
     ]
    }
   ],
   "source": [
    "# calculate the distance between the new point and each of the points in our labeled dataset\n",
    "distances = np.sum((data[:,0:2] - [new_x, new_y])**2, axis=1)\n",
    "\n",
    "# find the index of the point whose distance is lowest\n",
    "closest_point = np.argmin(distances)\n",
    "\n",
    "# take its label\n",
    "new_label = labels[closest_point]\n",
    "\n",
    "print('Predicted label: %d'%new_label)"
   ]
  },
  {
   "cell_type": "markdown",
   "metadata": {},
   "source": [
    "That's it! That is k-nearest neighbors where we set `k = 1`. If `k > 1`, we find the `k` closest points and take a vote among them.\n",
    "\n",
    "We can now plot the newly-labeled point on top of the dataset."
   ]
  },
  {
   "cell_type": "code",
   "execution_count": 750,
   "metadata": {},
   "outputs": [
    {
     "data": {
      "text/plain": [
       "<matplotlib.text.Annotation at 0x137782d30>"
      ]
     },
     "execution_count": 750,
     "metadata": {},
     "output_type": "execute_result"
    },
    {
     "data": {
      "image/png": "[encoded data removed]",
      "text/plain": [
       "<matplotlib.figure.Figure at 0x12a05dda0>"
      ]
     },
     "metadata": {},
     "output_type": "display_data"
    }
   ],
   "source": [
    "# append the newly labeled point in our dataset\n",
    "x = np.append(x, new_x)\n",
    "y = np.append(y, new_y)\n",
    "lab = np.append(lab, new_label)\n",
    "\n",
    "# scatter plot as before\n",
    "plt.figure(figsize=(8, 6))\n",
    "plt.scatter(x, y, c=lab)\n",
    "plt.xlabel('Sepal length')\n",
    "plt.ylabel('Sepal width')\n",
    "plt.title('Iris dataset')\n",
    "plt.annotate(\"\", xytext=(x[closest_point]+0.02, y[closest_point]+0.02), xy=(new_x-0.02, new_y-0.02), arrowprops=dict(arrowstyle=\"->\"))\n"
   ]
  },
  {
   "cell_type": "markdown",
   "metadata": {},
   "source": [
    "How accurate is k-nearest neighbors? We can answer this question with an experiment. Let's split the dataset into two: what we will call a \"training set\" and a \"test set\". For each point in the test set, we will find the closest point from the training set, and copy its label as our prediction for the test point. We will then compare our predictions to the actual labels in the test set, and measure our accuracy."
   ]
  },
  {
   "cell_type": "code",
   "execution_count": 751,
   "metadata": {},
   "outputs": [],
   "source": [
    "# how many samples to keep in the training set\n",
    "n_train = 100\n",
    "\n",
    "# split our dataset into training and test sets\n",
    "train_data, train_labels = data[:n_train, 0:2], labels[:n_train]\n",
    "test_data, test_labels = data[n_train:, 0:2], labels[n_train:]"
   ]
  },
  {
   "cell_type": "markdown",
   "metadata": {},
   "source": [
    "Let's plot the reduced training set."
   ]
  },
  {
   "cell_type": "code",
   "execution_count": 752,
   "metadata": {},
   "outputs": [
    {
     "data": {
      "text/plain": [
       "<matplotlib.text.Text at 0x1297cbfd0>"
      ]
     },
     "execution_count": 752,
     "metadata": {},
     "output_type": "execute_result"
    },
    {
     "data": {
      "image/png": "[encoded data removed]",
      "text/plain": [
       "<matplotlib.figure.Figure at 0x12aaeaac8>"
      ]
     },
     "metadata": {},
     "output_type": "display_data"
    }
   ],
   "source": [
    "plt.figure(figsize=(8, 6))\n",
    "plt.scatter(train_data[:,0], train_data[:,1], c=train_labels)\n",
    "plt.xlabel('Sepal length')\n",
    "plt.ylabel('Sepal width')\n",
    "plt.title('Iris dataset')"
   ]
  },
  {
   "cell_type": "markdown",
   "metadata": {},
   "source": [
    "Now let's plot the unknown points on top of it. They are colored black."
   ]
  },
  {
   "cell_type": "code",
   "execution_count": 754,
   "metadata": {},
   "outputs": [
    {
     "data": {
      "text/plain": [
       "<matplotlib.collections.PathCollection at 0x134469f98>"
      ]
     },
     "execution_count": 754,
     "metadata": {},
     "output_type": "execute_result"
    },
    {
     "data": {
      "image/png": "[encoded data removed]",
      "text/plain": [
       "<matplotlib.figure.Figure at 0x11f7f8470>"
      ]
     },
     "metadata": {},
     "output_type": "display_data"
    }
   ],
   "source": [
    "plt.figure(figsize=(8, 6))\n",
    "plt.scatter(train_data[:,0], train_data[:,1], c=train_labels)\n",
    "plt.xlabel('Sepal length')\n",
    "plt.ylabel('Sepal width')\n",
    "plt.title('Iris dataset')\n",
    "plt.scatter(test_data[:,0], test_data[:,1], c=[0]*len(test_labels), cmap=None, edgecolor='k')"
   ]
  },
  {
   "cell_type": "markdown",
   "metadata": {},
   "source": [
    "Let's repeat our procedure from above, where we calculate the distances between each test point and each training point."
   ]
  },
  {
   "cell_type": "code",
   "execution_count": 755,
   "metadata": {},
   "outputs": [],
   "source": [
    "# list of each set of distances between each point in the test set and each point in the training set\n",
    "distances = [ np.sum((train_data[:,0:2] - [x[0],x[1]])**2, axis=1) for x in test_data ]\n",
    "\n",
    "# for each point in the test set, take the index in the training set of the point closest to it\n",
    "closest_points = [ np.argmin(distance) for distance in distances ]\n",
    "\n",
    "# copy the labels of those closest points as our prediction\n",
    "new_labels = [train_labels[c] for c in closest_points]"
   ]
  },
  {
   "cell_type": "markdown",
   "metadata": {},
   "source": [
    "How did we do?"
   ]
  },
  {
   "cell_type": "code",
   "execution_count": 756,
   "metadata": {},
   "outputs": [
    {
     "name": "stdout",
     "output_type": "stream",
     "text": [
      "accuracy 0.60\n"
     ]
    }
   ],
   "source": [
    "results = (new_labels == test_labels)\n",
    "num_correct = sum(results)\n",
    "accuracy = num_correct / len(correct)\n",
    "print(\"accuracy %0.2f\" % accuracy)"
   ]
  },
  {
   "cell_type": "markdown",
   "metadata": {},
   "source": [
    "Our accuracy is 72%. Not too bad for such a simple method."
   ]
  },
  {
   "cell_type": "markdown",
   "metadata": {},
   "source": [
    "Let's try it for a more complicated dataset. MNIST"
   ]
  },
  {
   "cell_type": "code",
   "execution_count": null,
   "metadata": {},
   "outputs": [],
   "source": []
  },
  {
   "cell_type": "markdown",
   "metadata": {},
   "source": [
    "Not so good. \n",
    "\n",
    "What are the pros and cons of nearest-neighbor search?\n",
    "\n",
    "\n",
    "\n",
    "We will need something better: neural network.\n",
    "\n",
    "First let's introduce regression\n"
   ]
  },
  {
   "cell_type": "code",
   "execution_count": null,
   "metadata": {},
   "outputs": [],
   "source": []
  },
  {
   "cell_type": "code",
   "execution_count": null,
   "metadata": {},
   "outputs": [],
   "source": []
  },
  {
   "cell_type": "code",
   "execution_count": null,
   "metadata": {},
   "outputs": [],
   "source": []
  },
  {
   "cell_type": "code",
   "execution_count": null,
   "metadata": {},
   "outputs": [],
   "source": []
  },
  {
   "cell_type": "code",
   "execution_count": null,
   "metadata": {},
   "outputs": [],
   "source": []
  },
  {
   "cell_type": "code",
   "execution_count": null,
   "metadata": {},
   "outputs": [],
   "source": []
  },
  {
   "cell_type": "code",
   "execution_count": null,
   "metadata": {},
   "outputs": [],
   "source": []
  },
  {
   "cell_type": "code",
   "execution_count": null,
   "metadata": {},
   "outputs": [],
   "source": []
  },
  {
   "cell_type": "code",
   "execution_count": null,
   "metadata": {},
   "outputs": [],
   "source": []
  },
  {
   "cell_type": "code",
   "execution_count": null,
   "metadata": {},
   "outputs": [],
   "source": []
  },
  {
   "cell_type": "code",
   "execution_count": null,
   "metadata": {},
   "outputs": [],
   "source": []
  },
  {
   "cell_type": "code",
   "execution_count": null,
   "metadata": {},
   "outputs": [],
   "source": []
  },
  {
   "cell_type": "code",
   "execution_count": null,
   "metadata": {},
   "outputs": [],
   "source": []
  },
  {
   "cell_type": "code",
   "execution_count": null,
   "metadata": {},
   "outputs": [],
   "source": []
  },
  {
   "cell_type": "code",
   "execution_count": null,
   "metadata": {},
   "outputs": [],
   "source": []
  },
  {
   "cell_type": "code",
   "execution_count": null,
   "metadata": {},
   "outputs": [],
   "source": []
  },
  {
   "cell_type": "code",
   "execution_count": null,
   "metadata": {},
   "outputs": [],
   "source": []
  },
  {
   "cell_type": "code",
   "execution_count": null,
   "metadata": {},
   "outputs": [],
   "source": []
  },
  {
   "cell_type": "code",
   "execution_count": null,
   "metadata": {},
   "outputs": [],
   "source": []
  },
  {
   "cell_type": "code",
   "execution_count": null,
   "metadata": {},
   "outputs": [],
   "source": []
  },
  {
   "cell_type": "code",
   "execution_count": null,
   "metadata": {},
   "outputs": [],
   "source": []
  },
  {
   "cell_type": "code",
   "execution_count": null,
   "metadata": {},
   "outputs": [],
   "source": []
  },
  {
   "cell_type": "code",
   "execution_count": null,
   "metadata": {},
   "outputs": [],
   "source": []
  },
  {
   "cell_type": "code",
   "execution_count": null,
   "metadata": {},
   "outputs": [],
   "source": []
  },
  {
   "cell_type": "code",
   "execution_count": null,
   "metadata": {},
   "outputs": [],
   "source": []
  },
  {
   "cell_type": "code",
   "execution_count": null,
   "metadata": {},
   "outputs": [],
   "source": []
  },
  {
   "cell_type": "code",
   "execution_count": null,
   "metadata": {},
   "outputs": [],
   "source": []
  },
  {
   "cell_type": "code",
   "execution_count": null,
   "metadata": {},
   "outputs": [],
   "source": []
  },
  {
   "cell_type": "code",
   "execution_count": null,
   "metadata": {},
   "outputs": [],
   "source": []
  },
  {
   "cell_type": "code",
   "execution_count": null,
   "metadata": {},
   "outputs": [],
   "source": []
  },
  {
   "cell_type": "code",
   "execution_count": null,
   "metadata": {},
   "outputs": [],
   "source": []
  },
  {
   "cell_type": "code",
   "execution_count": null,
   "metadata": {},
   "outputs": [],
   "source": []
  },
  {
   "cell_type": "code",
   "execution_count": null,
   "metadata": {},
   "outputs": [],
   "source": []
  },
  {
   "cell_type": "code",
   "execution_count": null,
   "metadata": {},
   "outputs": [],
   "source": []
  },
  {
   "cell_type": "code",
   "execution_count": null,
   "metadata": {},
   "outputs": [],
   "source": []
  },
  {
   "cell_type": "code",
   "execution_count": null,
   "metadata": {},
   "outputs": [],
   "source": []
  },
  {
   "cell_type": "code",
   "execution_count": null,
   "metadata": {},
   "outputs": [],
   "source": []
  },
  {
   "cell_type": "code",
   "execution_count": null,
   "metadata": {},
   "outputs": [],
   "source": []
  },
  {
   "cell_type": "code",
   "execution_count": null,
   "metadata": {},
   "outputs": [],
   "source": []
  },
  {
   "cell_type": "code",
   "execution_count": null,
   "metadata": {},
   "outputs": [],
   "source": []
  },
  {
   "cell_type": "code",
   "execution_count": null,
   "metadata": {},
   "outputs": [],
   "source": []
  },
  {
   "cell_type": "code",
   "execution_count": null,
   "metadata": {},
   "outputs": [],
   "source": []
  },
  {
   "cell_type": "code",
   "execution_count": null,
   "metadata": {},
   "outputs": [],
   "source": []
  },
  {
   "cell_type": "code",
   "execution_count": null,
   "metadata": {},
   "outputs": [],
   "source": []
  },
  {
   "cell_type": "code",
   "execution_count": null,
   "metadata": {},
   "outputs": [],
   "source": []
  },
  {
   "cell_type": "code",
   "execution_count": null,
   "metadata": {},
   "outputs": [],
   "source": []
  },
  {
   "cell_type": "code",
   "execution_count": null,
   "metadata": {},
   "outputs": [],
   "source": []
  },
  {
   "cell_type": "code",
   "execution_count": null,
   "metadata": {},
   "outputs": [],
   "source": []
  },
  {
   "cell_type": "code",
   "execution_count": null,
   "metadata": {},
   "outputs": [],
   "source": []
  },
  {
   "cell_type": "code",
   "execution_count": null,
   "metadata": {},
   "outputs": [],
   "source": []
  },
  {
   "cell_type": "code",
   "execution_count": null,
   "metadata": {},
   "outputs": [],
   "source": []
  },
  {
   "cell_type": "code",
   "execution_count": null,
   "metadata": {},
   "outputs": [],
   "source": []
  },
  {
   "cell_type": "code",
   "execution_count": null,
   "metadata": {},
   "outputs": [],
   "source": []
  },
  {
   "cell_type": "code",
   "execution_count": null,
   "metadata": {},
   "outputs": [],
   "source": []
  },
  {
   "cell_type": "code",
   "execution_count": null,
   "metadata": {},
   "outputs": [],
   "source": []
  },
  {
   "cell_type": "markdown",
   "metadata": {},
   "source": [
    "## Neural networks\n",
    "\n",
    "We are now going to innovate our linear regression in a few ways and turn it into a multiple-layer neural network!\n",
    "\n",
    "First, let's start by adding another input variable, so that now are input is two dimensions. We'll go back to the Iris dataset, and pose the following problem: given the sepal length and sepal width (first two features), try to predict the petal length (third feature).\n",
    "\n",
    "Load the data."
   ]
  },
  {
   "cell_type": "code",
   "execution_count": 616,
   "metadata": {},
   "outputs": [],
   "source": [
    "iris = load_iris()\n",
    "data, labels = iris.data[:,0:2], iris.data[:,2]\n",
    "\n",
    "num_samples = len(labels)  # size of our dataset\n",
    "\n",
    "# shuffle the dataset\n",
    "shuffle_order = np.random.permutation(num_samples)\n",
    "data = data[shuffle_order, :]\n",
    "labels = labels[shuffle_order]\n"
   ]
  },
  {
   "cell_type": "markdown",
   "metadata": {},
   "source": [
    "Like the 1-dimensional problem previously, we can still do linear regression, except now we have two variables and therefore two weights as well. We have:\n",
    "\n",
    "$$\n",
    "f(X) = w_1 x_1 + w_2 x_2 + b \n",
    "$$\n",
    "\n",
    "There are three parameters: w1, w2, b\n",
    "\n",
    "We can look at it:\n",
    "!download (5).png\n",
    "\n",
    "For example, suppose set $w = [0.5, 0.3]$ and $b = 0.1$. We can visualize that function."
   ]
  },
  {
   "cell_type": "code",
   "execution_count": 674,
   "metadata": {},
   "outputs": [
    {
     "name": "stdout",
     "output_type": "stream",
     "text": [
      "333.971\n"
     ]
    }
   ],
   "source": [
    "def weighted_sum(x, w, b):\n",
    "    return b + np.dot(w, x)\n",
    "\n",
    "\n",
    "# set our paramters\n",
    "w = [0.5, 0.3]\n",
    "b = 0.1\n",
    "\n",
    "# for example, let's use the first data point\n",
    "X, y = data, labels\n",
    "\n",
    "pred_y = [weighted_sum(x, w, b) for x in X]\n",
    "error = mse(pred_y, y)\n",
    "print(error)\n",
    "#print('predicted %0.2f, actual %0.2f, mse %0.2f'%(pred_y, y, error))\n"
   ]
  },
  {
   "cell_type": "markdown",
   "metadata": {},
   "source": [
    "Like in the previous section, we can optimize our three parameters:\n",
    "\n",
    "equations"
   ]
  },
  {
   "cell_type": "code",
   "execution_count": null,
   "metadata": {},
   "outputs": [],
   "source": [
    "# implement optimization and graph"
   ]
  },
  {
   "cell_type": "markdown",
   "metadata": {},
   "source": [
    "We can view our prediction surface:"
   ]
  },
  {
   "cell_type": "code",
   "execution_count": 629,
   "metadata": {},
   "outputs": [
    {
     "data": {
      "text/plain": [
       "<mpl_toolkits.mplot3d.art3d.Poly3DCollection at 0x1388679e8>"
      ]
     },
     "execution_count": 629,
     "metadata": {},
     "output_type": "execute_result"
    },
    {
     "data": {
      "image/png": "[encoded data removed]",
      "text/plain": [
       "<matplotlib.figure.Figure at 0x138867ac8>"
      ]
     },
     "metadata": {},
     "output_type": "display_data"
    }
   ],
   "source": [
    "from mpl_toolkits.mplot3d import Axes3D\n",
    "\n",
    "fig = plt.figure()\n",
    "ax = fig.gca(projection='3d')\n",
    "x1, x2 = np.meshgrid(np.arange(-10, 10, 2), np.arange(-10, 10, 2))\n",
    "y = b + w[0]*x1 + w[1]*x2\n",
    "ax.plot_surface(x1, x2, y, rstride=1, cstride=1, cmap=plt.cm.coolwarm, linewidth=0, antialiased=False)\n"
   ]
  },
  {
   "cell_type": "markdown",
   "metadata": {},
   "source": [
    "Given a dataset, we can use this setup to do linear regression, just as we did in the case of the one-dimensional dataset a few cells above. In this case, we ae no longer able to visualize the loss surface, because our function has 3 parameters (w1, w2, and b) and therefore requires four dimensions to plot the loss surface with repsect to the parameters). But the regression would work just the same way.\n",
    "\n",
    "But this isn't good enough because it's linear. (why)\n",
    "\n",
    "So we introduce a non-linearity. One good one is a sigmoid function.\n",
    "\n",
    "$$\n",
    "z = b + \\sum_i w_i x_i \\\\\n",
    "\\sigma(z) = \\frac{1}{1 + e^{-z}}\n",
    "$$\n",
    "\n",
    "Let's implement the sigmoid function, and take a look at its graph.\n"
   ]
  },
  {
   "cell_type": "code",
   "execution_count": 579,
   "metadata": {},
   "outputs": [
    {
     "data": {
      "text/plain": [
       "<matplotlib.text.Text at 0x1284f5518>"
      ]
     },
     "execution_count": 579,
     "metadata": {},
     "output_type": "execute_result"
    },
    {
     "data": {
      "image/png": "[encoded data removed]",
      "text/plain": [
       "<matplotlib.figure.Figure at 0x128d82ac8>"
      ]
     },
     "metadata": {},
     "output_type": "display_data"
    }
   ],
   "source": [
    "def sigmoid(z):\n",
    "    return 1 / (1 + np.exp(-z))\n",
    "\n",
    "\n",
    "x = np.arange(-10., 10., 0.2)\n",
    "sig = sigmoid(x)\n",
    "plt.plot(x,sig)\n",
    "plt.title('Sigmoid function')"
   ]
  },
  {
   "cell_type": "markdown",
   "metadata": {},
   "source": [
    "!sigmoid\n",
    "\n",
    "Basically it just squashes it.\n",
    "\n",
    "we now modify our basic function in the following way: instead of just outputting $b + \\sum_i w_i x_i$, we now pass that through the sigmoid function. In other words:\n",
    "\n",
    "$$\n",
    "z = w_1 x_1 + w_2 x_2 + b \\\\\n",
    "y = \\sigma(z) \n",
    "$$\n",
    "\n",
    "In graphical terms, this looks like:\n",
    "\n",
    "!download (6) copy.png\n",
    "\n",
    "suppose we let\n",
    "\n",
    "w = [0.5, 0.3]\n",
    "b = 0.1\n"
   ]
  },
  {
   "cell_type": "code",
   "execution_count": 684,
   "metadata": {},
   "outputs": [
    {
     "name": "stdout",
     "output_type": "stream",
     "text": [
      "10.797170524615561\n"
     ]
    }
   ],
   "source": [
    "# reset our parameters\n",
    "w = [0.5, 0.3]\n",
    "b = 0.1\n",
    "\n",
    "# let's use the first data point again\n",
    "#x, y = data[0], labels[0]\n",
    "X, y = data, labels\n",
    "\n",
    "Z = [weighted_sum(x, w, b) for x in X]\n",
    "y_pred = [sigmoid(z) for z in Z]\n",
    "error = mse(y_pred, y)\n",
    "print(error)\n",
    "#print('predicted %0.2f, actual %0.2f, mse %0.2f'%(pred_y, y, error))\n"
   ]
  },
  {
   "cell_type": "markdown",
   "metadata": {},
   "source": [
    "That migh look much worse, but we haven't optimized yet!\n",
    "\n",
    "Given the above weights, we can take a look at the graph of our neuron's activity."
   ]
  },
  {
   "cell_type": "code",
   "execution_count": 676,
   "metadata": {},
   "outputs": [
    {
     "data": {
      "text/plain": [
       "<mpl_toolkits.mplot3d.art3d.Poly3DCollection at 0x135395e80>"
      ]
     },
     "execution_count": 676,
     "metadata": {},
     "output_type": "execute_result"
    },
    {
     "data": {
      "image/png": "[encoded data removed]",
      "text/plain": [
       "<matplotlib.figure.Figure at 0x135ad6a90>"
      ]
     },
     "metadata": {},
     "output_type": "display_data"
    }
   ],
   "source": [
    "fig = plt.figure()\n",
    "ax = fig.gca(projection='3d')\n",
    "x1, x2 = np.meshgrid(np.arange(-10, 10, 2), np.arange(-10, 10, 2))\n",
    "y = sigmoid(b + w[0]*x1 + w[1]*x2)\n",
    "ax.plot_surface(x1, x2, y, rstride=1, cstride=1, cmap=plt.cm.coolwarm, linewidth=0, antialiased=False)\n"
   ]
  },
  {
   "cell_type": "markdown",
   "metadata": {},
   "source": [
    "//Now let's scale this up in two ways. We will add another layer to the network, and make the input have four variabls.\n",
    "\n",
    "Noe let's add a hidden layer.\n",
    "\n",
    "TODO: \n",
    "figure 2x3x1\n",
    "\n",
    "we need to create weights."
   ]
  },
  {
   "cell_type": "code",
   "execution_count": 637,
   "metadata": {},
   "outputs": [],
   "source": [
    "W1 = np.random.randn(2, 3)\n",
    "W2 = np.random.randn(3, 1)"
   ]
  },
  {
   "cell_type": "code",
   "execution_count": 685,
   "metadata": {},
   "outputs": [
    {
     "name": "stdout",
     "output_type": "stream",
     "text": [
      "2526.1826469876382\n"
     ]
    }
   ],
   "source": [
    "X, y = data, labels\n",
    "\n",
    "Z = [np.dot(x, W1) for x in X]\n",
    "Z = [sigmoid(z) for z in Z]\n",
    "\n",
    "#print(\"activation in hidden layer = \", z)\n",
    "\n",
    "y_pred = [np.dot(z, W2) for z in Z]\n",
    "error = mse(y_pred, y)\n",
    "\n",
    "print(error)\n",
    "#print('predicted %0.2f, actual %0.2f, mse %0.2f'%(pred_y, y, error))\n"
   ]
  },
  {
   "cell_type": "markdown",
   "metadata": {},
   "source": []
  },
  {
   "cell_type": "markdown",
   "metadata": {},
   "source": [
    "Does it match our actual output?\n",
    "\n",
    "We can turn this into a class."
   ]
  },
  {
   "cell_type": "code",
   "execution_count": 686,
   "metadata": {},
   "outputs": [],
   "source": [
    "class Neural_Network(object):\n",
    "    def __init__(self, n0, n1, n2):        \n",
    "        self.n0 = n0\n",
    "        self.n1 = n1\n",
    "        self.n2 = n2\n",
    "        \n",
    "        # initialize weights\n",
    "        self.W1 = np.random.randn(self.n0, self.n1)\n",
    "        self.W2 = np.random.randn(self.n1 ,self.n2)\n",
    "        \n",
    "    def predict(self, x):\n",
    "        z = np.dot(x, self.W1)\n",
    "        z = sigmoid(z)\n",
    "        y = np.dot(z, self.W2)\n",
    "        return y\n",
    "  "
   ]
  },
  {
   "cell_type": "markdown",
   "metadata": {},
   "source": [
    "Instantiate."
   ]
  },
  {
   "cell_type": "code",
   "execution_count": 640,
   "metadata": {},
   "outputs": [],
   "source": [
    "net = Neural_Network(2, 3, 1)    "
   ]
  },
  {
   "cell_type": "code",
   "execution_count": 688,
   "metadata": {},
   "outputs": [
    {
     "name": "stdout",
     "output_type": "stream",
     "text": [
      "1938.0372810520946\n"
     ]
    }
   ],
   "source": [
    "X, y = data, labels\n",
    "\n",
    "y_pred = net.predict(X)\n",
    "\n",
    "error = mse(y_pred, y)\n",
    "\n",
    "#print('predicted %0.2f, actual %0.2f, mse %0.2f'%(pred_y, y, error))\n",
    "print(error)\n",
    "# normalize????????\n",
    "#X = X/np.amax(X, axis=0)\n",
    "#y = y/100 #Max test score is 100\n"
   ]
  },
  {
   "cell_type": "code",
   "execution_count": null,
   "metadata": {},
   "outputs": [],
   "source": []
  },
  {
   "cell_type": "code",
   "execution_count": null,
   "metadata": {},
   "outputs": [],
   "source": []
  },
  {
   "cell_type": "markdown",
   "metadata": {},
   "source": [
    "## Gradient descent\n",
    "\n",
    "how do we get the gradient? do simplest one first (newton method)"
   ]
  },
  {
   "cell_type": "code",
   "execution_count": 689,
   "metadata": {},
   "outputs": [
    {
     "name": "stdout",
     "output_type": "stream",
     "text": [
      "463.88065533222476\n"
     ]
    },
    {
     "data": {
      "image/png": "[encoded data removed]",
      "text/plain": [
       "<matplotlib.figure.Figure at 0x135ad6780>"
      ]
     },
     "metadata": {},
     "output_type": "display_data"
    }
   ],
   "source": [
    "import itertools\n",
    "\n",
    "def get_gradient(net, X, y):\n",
    "    w_delta = 1e-8\n",
    "\n",
    "    y_pred_current = net.predict(X)\n",
    "    error_current = mse(y_pred_current, y)\n",
    "\n",
    "    dw1, dw2 = np.zeros((net.n0, net.n1)), np.zeros((net.n1, net.n2))\n",
    "    W1, W2 = np.copy(net.W1), np.copy(net.W2) \n",
    "    \n",
    "    for i, j in itertools.product(range(net.n0), range(net.n1)):\n",
    "        net.W1 = np.copy(W1)\n",
    "        net.W1[i][j] += w_delta\n",
    "        y_pred = net.predict(X)\n",
    "        error = mse(y_pred, y)\n",
    "        dw1[i][j] = (error - error_current) / w_delta\n",
    "\n",
    "    for i, j in itertools.product(range(net.n1), range(net.n2)):\n",
    "        net.W2 = np.copy(W2)\n",
    "        net.W2[i][j] += w_delta\n",
    "        y_pred = net.predict(X)\n",
    "        error = mse(y_pred, y)\n",
    "        dw2[i][j] = (error - error_current) / w_delta\n",
    "\n",
    "    net.W1, net.W2 = np.copy(W1), np.copy(W2)\n",
    "\n",
    "    return dw1, dw2\n",
    "\n",
    "\n",
    "net = Neural_Network(2, 3, 1)    \n",
    "\n",
    "\n",
    "X, y = data, labels\n",
    "\n",
    "\n",
    "# normalize up top!\n",
    "\n",
    "#X = X/np.amax(X, axis=0)\n",
    "#y = y/np.amax(y, axis=0) #Max test score is 100\n",
    "\n",
    "\n",
    "n_epochs = 100\n",
    "learning_rate = 0.0001\n",
    "\n",
    "errors = []\n",
    "for i in range(n_epochs):\n",
    "    dw1, dw2 = get_gradient(net, X, y)\n",
    "    net.W1 = net.W1 - learning_rate * dw1\n",
    "    net.W2 = net.W2 - learning_rate * dw2\n",
    "    y_pred = net.predict(X)\n",
    "    error = mse(y_pred, y)\n",
    "    errors.append(error)\n",
    "        \n",
    "\n",
    "plt.plot(range(0, len(errors)), errors, linewidth=2)\n",
    "\n",
    "\n",
    "y_pred = net.predict(X)\n",
    "error = mse(y_pred, y)\n",
    "print(error)\n"
   ]
  },
  {
   "cell_type": "code",
   "execution_count": 653,
   "metadata": {},
   "outputs": [
    {
     "ename": "NameError",
     "evalue": "name 'self' is not defined",
     "output_type": "error",
     "traceback": [
      "\u001b[0;31m---------------------------------------------------------------------------\u001b[0m",
      "\u001b[0;31mNameError\u001b[0m                                 Traceback (most recent call last)",
      "\u001b[0;32m<ipython-input-653-1c689b624065>\u001b[0m in \u001b[0;36m<module>\u001b[0;34m()\u001b[0m\n\u001b[1;32m     24\u001b[0m \u001b[0merrors\u001b[0m \u001b[0;34m=\u001b[0m \u001b[0;34m[\u001b[0m\u001b[0;34m]\u001b[0m\u001b[0;34m\u001b[0m\u001b[0m\n\u001b[1;32m     25\u001b[0m \u001b[0;32mfor\u001b[0m \u001b[0mi\u001b[0m \u001b[0;32min\u001b[0m \u001b[0mrange\u001b[0m\u001b[0;34m(\u001b[0m\u001b[0mn_epochs\u001b[0m\u001b[0;34m)\u001b[0m\u001b[0;34m:\u001b[0m\u001b[0;34m\u001b[0m\u001b[0m\n\u001b[0;32m---> 26\u001b[0;31m     \u001b[0mdw1\u001b[0m\u001b[0;34m,\u001b[0m \u001b[0mdw2\u001b[0m \u001b[0;34m=\u001b[0m \u001b[0mget_gradient_2\u001b[0m\u001b[0;34m(\u001b[0m\u001b[0mnet\u001b[0m\u001b[0;34m,\u001b[0m \u001b[0mX\u001b[0m\u001b[0;34m,\u001b[0m \u001b[0my\u001b[0m\u001b[0;34m)\u001b[0m\u001b[0;34m\u001b[0m\u001b[0m\n\u001b[0m\u001b[1;32m     27\u001b[0m     \u001b[0mnet\u001b[0m\u001b[0;34m.\u001b[0m\u001b[0mW1\u001b[0m \u001b[0;34m=\u001b[0m \u001b[0mnet\u001b[0m\u001b[0;34m.\u001b[0m\u001b[0mW1\u001b[0m \u001b[0;34m-\u001b[0m \u001b[0mlearning_rate\u001b[0m \u001b[0;34m*\u001b[0m \u001b[0mdw1\u001b[0m\u001b[0;34m\u001b[0m\u001b[0m\n\u001b[1;32m     28\u001b[0m     \u001b[0mnet\u001b[0m\u001b[0;34m.\u001b[0m\u001b[0mW2\u001b[0m \u001b[0;34m=\u001b[0m \u001b[0mnet\u001b[0m\u001b[0;34m.\u001b[0m\u001b[0mW2\u001b[0m \u001b[0;34m-\u001b[0m \u001b[0mlearning_rate\u001b[0m \u001b[0;34m*\u001b[0m \u001b[0mdw2\u001b[0m\u001b[0;34m\u001b[0m\u001b[0m\n",
      "\u001b[0;32m<ipython-input-653-1c689b624065>\u001b[0m in \u001b[0;36mget_gradient_2\u001b[0;34m(net, X, y)\u001b[0m\n\u001b[1;32m      5\u001b[0m \u001b[0;32mdef\u001b[0m \u001b[0mget_gradient_2\u001b[0m\u001b[0;34m(\u001b[0m\u001b[0mnet\u001b[0m\u001b[0;34m,\u001b[0m \u001b[0mX\u001b[0m\u001b[0;34m,\u001b[0m \u001b[0my\u001b[0m\u001b[0;34m)\u001b[0m\u001b[0;34m:\u001b[0m\u001b[0;34m\u001b[0m\u001b[0m\n\u001b[1;32m      6\u001b[0m     \u001b[0;31m#Compute derivative with respect to W and W2 for a given X and y:\u001b[0m\u001b[0;34m\u001b[0m\u001b[0;34m\u001b[0m\u001b[0m\n\u001b[0;32m----> 7\u001b[0;31m     \u001b[0my_current\u001b[0m \u001b[0;34m=\u001b[0m \u001b[0mself\u001b[0m\u001b[0;34m.\u001b[0m\u001b[0mforward\u001b[0m\u001b[0;34m(\u001b[0m\u001b[0mX\u001b[0m\u001b[0;34m)\u001b[0m\u001b[0;34m\u001b[0m\u001b[0m\n\u001b[0m\u001b[1;32m      8\u001b[0m \u001b[0;34m\u001b[0m\u001b[0m\n\u001b[1;32m      9\u001b[0m     \u001b[0mdelta3\u001b[0m \u001b[0;34m=\u001b[0m \u001b[0mnp\u001b[0m\u001b[0;34m.\u001b[0m\u001b[0mmultiply\u001b[0m\u001b[0;34m(\u001b[0m\u001b[0;34m-\u001b[0m\u001b[0;34m(\u001b[0m\u001b[0my\u001b[0m\u001b[0;34m-\u001b[0m\u001b[0my_current\u001b[0m\u001b[0;34m)\u001b[0m\u001b[0;34m,\u001b[0m \u001b[0msigmoid_deriv\u001b[0m\u001b[0;34m(\u001b[0m\u001b[0mnet\u001b[0m\u001b[0;34m.\u001b[0m\u001b[0mz3\u001b[0m\u001b[0;34m)\u001b[0m\u001b[0;34m)\u001b[0m\u001b[0;34m\u001b[0m\u001b[0m\n",
      "\u001b[0;31mNameError\u001b[0m: name 'self' is not defined"
     ]
    }
   ],
   "source": [
    "def sigmoid_deriv(z):\n",
    "    return np.exp(-z) / ((1 + np.exp(-z))**2)\n",
    "\n",
    "\n",
    "def get_gradient_2(net, X, y):\n",
    "    #Compute derivative with respect to W and W2 for a given X and y:\n",
    "    y_current = net.forward(X)\n",
    "\n",
    "    delta3 = np.multiply(-(y-y_current), sigmoid_deriv(net.z3))\n",
    "    #Add gradient of regularization term:\n",
    "    dJdW2 = np.dot(net.a2.T, delta3) / X.shape[0]\n",
    "\n",
    "    delta2 = np.dot(delta3, net.W2.T) * sigmoid_deriv(self.z2)\n",
    "    #Add gradient of regularization term:\n",
    "    dJdW1 = np.dot(X.T, delta2) / X.shape[0]\n",
    "    return dJdW1, dJdW2\n",
    "\n",
    "net = Neural_Network(2, 3, 1)    \n",
    "\n",
    "\n",
    "n_epochs = 100\n",
    "learning_rate = 0.1\n",
    "\n",
    "errors = []\n",
    "for i in range(n_epochs):\n",
    "    dw1, dw2 = get_gradient_2(net, X, y)\n",
    "    net.W1 = net.W1 - learning_rate * dw1\n",
    "    net.W2 = net.W2 - learning_rate * dw2\n",
    "    y_pred = net.predict(X)\n",
    "    error = mse(y_pred, y)\n",
    "    errors.append(error)\n",
    "        \n",
    "\n",
    "plt.plot(range(0, len(errors)), errors, linewidth=2)\n"
   ]
  },
  {
   "cell_type": "code",
   "execution_count": null,
   "metadata": {},
   "outputs": [],
   "source": [
    "TODO softmax\n",
    "classification"
   ]
  },
  {
   "cell_type": "code",
   "execution_count": null,
   "metadata": {},
   "outputs": [],
   "source": []
  },
  {
   "cell_type": "markdown",
   "metadata": {},
   "source": [
    "\n",
    "# introduce softmax / cross-entropy\n",
    "\n",
    "Let's try IRIS"
   ]
  },
  {
   "cell_type": "code",
   "execution_count": null,
   "metadata": {},
   "outputs": [],
   "source": []
  },
  {
   "cell_type": "code",
   "execution_count": null,
   "metadata": {},
   "outputs": [],
   "source": [
    "Now let's do MNIST\n",
    "\n",
    "it's slow"
   ]
  },
  {
   "cell_type": "code",
   "execution_count": null,
   "metadata": {},
   "outputs": [],
   "source": []
  },
  {
   "cell_type": "code",
   "execution_count": null,
   "metadata": {},
   "outputs": [],
   "source": []
  },
  {
   "cell_type": "code",
   "execution_count": null,
   "metadata": {},
   "outputs": [],
   "source": []
  },
  {
   "cell_type": "code",
   "execution_count": null,
   "metadata": {},
   "outputs": [],
   "source": []
  },
  {
   "cell_type": "code",
   "execution_count": null,
   "metadata": {},
   "outputs": [],
   "source": []
  },
  {
   "cell_type": "code",
   "execution_count": 180,
   "metadata": {},
   "outputs": [],
   "source": [
    "\n",
    "#import matplotlib.pyplot as plt\n",
    "from sklearn import datasets\n",
    "\n",
    "# import some data to play with\n",
    "iris = datasets.load_iris()\n",
    "X = iris.data[:, :2]  # we only take the first two features.\n",
    "y = iris.data[:, 2]\n",
    "y = np.reshape(y, (len(y), 1))\n",
    "X = X/np.amax(X, axis=0)\n",
    "y = y/np.amax(y, axis=0)\n",
    "\n"
   ]
  },
  {
   "cell_type": "code",
   "execution_count": 182,
   "metadata": {},
   "outputs": [
    {
     "data": {
      "text/plain": [
       "[<matplotlib.lines.Line2D at 0x10debf400>]"
      ]
     },
     "execution_count": 182,
     "metadata": {},
     "output_type": "execute_result"
    },
    {
     "data": {
      "image/png": "[encoded data removed]",
      "text/plain": [
       "<matplotlib.figure.Figure at 0x10de01f28>"
      ]
     },
     "metadata": {},
     "output_type": "display_data"
    }
   ],
   "source": [
    "net = Neural_Network(2, 3, 1)    \n",
    "\n",
    "\n",
    "X = X/np.amax(X, axis=0)\n",
    "y = y/np.amax(y, axis=0)\n",
    "\n",
    "\n",
    "n_epochs = 1000\n",
    "learning_rate = 0.0001\n",
    "\n",
    "errors = []\n",
    "for i in range(n_epochs):\n",
    "    dw1, dw2 = get_gradient(net, X, y)\n",
    "    net.W1 = net.W1 - learning_rate * dw1\n",
    "    net.W2 = net.W2 - learning_rate * dw2\n",
    "    y_pred = net.predict(X)\n",
    "    error = mse(y_pred, y)\n",
    "    errors.append(error)\n",
    "        \n",
    "\n",
    "matplotlib.pyplot.plot(range(0, len(errors)), errors, linewidth=2)\n"
   ]
  },
  {
   "cell_type": "code",
   "execution_count": 195,
   "metadata": {},
   "outputs": [],
   "source": [
    "\n",
    "#import matplotlib.pyplot as plt\n",
    "from sklearn import datasets\n",
    "\n",
    "# import some data to play with\n",
    "iris = datasets.load_iris()\n",
    "X = iris.data[:, :2]  # we only take the first two features.\n",
    "labels = iris.target\n",
    "\n",
    "\n",
    "# need to shuffle\n",
    "\n",
    "shuffle_order = np.random.permutation(len(labels))\n",
    "X = X[shuffle_order, :]\n",
    "labels = labels[shuffle_order]\n",
    "\n",
    "\n",
    "X = X/np.amax(X, axis=0)\n"
   ]
  },
  {
   "cell_type": "code",
   "execution_count": 196,
   "metadata": {},
   "outputs": [],
   "source": [
    "y = np.zeros((labels.size, labels.max()+1))\n",
    "y[np.arange(labels.size), labels] = 1\n"
   ]
  },
  {
   "cell_type": "code",
   "execution_count": 198,
   "metadata": {},
   "outputs": [
    {
     "name": "stdout",
     "output_type": "stream",
     "text": [
      "[[-0.51250553 -2.39679166  0.47132639]\n",
      " [-0.54292477 -2.47303499  0.48257093]\n",
      " [-0.55697994 -2.50562414  0.47671609]\n",
      " [-0.54243528 -2.47390911  0.49015408]\n",
      " [-0.55213687 -2.49320486  0.47451724]\n",
      " [-0.55908867 -2.51360235  0.48657196]\n",
      " [-0.52475319 -2.42670532  0.47337532]\n",
      " [-0.5591054  -2.51077545  0.47657754]\n",
      " [-0.56853825 -2.53222927  0.47095282]\n",
      " [-0.55851974 -2.51438004  0.49412773]\n",
      " [-0.56489265 -2.52410012  0.47369404]\n",
      " [-0.56069049 -2.51390359  0.47398022]\n",
      " [-0.54406229 -2.47715577  0.48753925]\n",
      " [-0.5673997  -2.53386864  0.48595299]\n",
      " [-0.54730441 -2.48361278  0.48231971]\n",
      " [-0.52679816 -2.42900496  0.46322471]\n",
      " [-0.5659435  -2.52520093  0.46865578]\n",
      " [-0.58315287 -2.56865599  0.472252  ]\n",
      " [-0.57217905 -2.53740436  0.45834065]\n",
      " [-0.56331564 -2.5181134   0.46635092]\n",
      " [-0.52308866 -2.42336824  0.47596929]\n",
      " [-0.55432406 -2.50131154  0.48439205]\n",
      " [-0.51717542 -2.40794228  0.47115348]\n",
      " [-0.547788   -2.48270783  0.47476873]\n",
      " [-0.54766579 -2.47966852  0.46477622]\n",
      " [-0.52449637 -2.42350725  0.46331509]\n",
      " [-0.53427153 -2.44753281  0.4654203 ]\n",
      " [-0.51949813 -2.41349187  0.47106431]\n",
      " [-0.52577917 -2.42786369  0.4682936 ]\n",
      " [-0.56010746 -2.51752926  0.49150473]\n",
      " [-0.5445499  -2.47627157  0.47996655]\n",
      " [-0.56015749 -2.51476257  0.48149794]\n",
      " [-0.53956232 -2.45622669  0.45020986]\n",
      " [-0.53298005 -2.45041126  0.48814657]\n",
      " [-0.56697455 -2.52915913  0.47354639]\n",
      " [-0.58537628 -2.56795743  0.45245598]\n",
      " [-0.51782489 -2.41013207  0.47365511]\n",
      " [-0.54117869 -2.46678571  0.47512574]\n",
      " [-0.55748328 -2.5047192   0.46920472]\n",
      " [-0.55804607 -2.50963367  0.48164224]\n",
      " [-0.54397411 -2.47419836  0.47748742]\n",
      " [-0.55430535 -2.50410917  0.49442973]\n",
      " [-0.52051924 -2.41465209  0.46598289]\n",
      " [-0.54186813 -2.47185233  0.48766604]\n",
      " [-0.55324185 -2.49727781  0.4794527 ]\n",
      " [-0.53110814 -2.4367048   0.4530406 ]\n",
      " [-0.52550773 -2.42463582  0.45825709]\n",
      " [-0.56279792 -2.51901485  0.47383863]\n",
      " [-0.52907558 -2.44167506  0.49087458]\n",
      " [-0.55053022 -2.49002018  0.47711434]\n",
      " [-0.52245261 -2.42119937  0.47347059]\n",
      " [-0.56489265 -2.52410012  0.47369404]\n",
      " [-0.51453888 -2.39912241  0.4611624 ]\n",
      " [-0.56331564 -2.5181134   0.46635092]\n",
      " [-0.52641408 -2.4300315   0.47078508]\n",
      " [-0.52972468 -2.43665042  0.46561622]\n",
      " [-0.53110814 -2.4367048   0.4530406 ]\n",
      " [-0.52485619 -2.42244135  0.45577584]\n",
      " [-0.53367058 -2.45543943  0.50077059]\n",
      " [-0.54674043 -2.48155901  0.47984225]\n",
      " [-0.56174031 -2.51788863  0.47889284]\n",
      " [-0.57517119 -2.54912737  0.47292473]\n",
      " [-0.53671745 -2.45605779  0.47535085]\n",
      " [-0.55430535 -2.50410917  0.49442973]\n",
      " [-0.56798117 -2.53307526  0.47844124]\n",
      " [-0.56802688 -2.5302564   0.46851109]\n",
      " [-0.56853825 -2.53222927  0.47095282]\n",
      " [-0.52513992 -2.42568888  0.46580358]\n",
      " [-0.53473071 -2.44210104  0.44046797]\n",
      " [-0.56069049 -2.51390359  0.47398022]\n",
      " [-0.52807127 -2.4333466   0.46819868]\n",
      " [-0.54117869 -2.46678571  0.47512574]\n",
      " [-0.57314191 -2.54417597  0.47308487]\n",
      " [-0.56437298 -2.52211479  0.47124519]\n",
      " [-0.55204268 -2.49019866  0.46454124]\n",
      " [-0.57009732 -2.53528532  0.46836333]\n",
      " [-0.54730441 -2.48361278  0.48231971]\n",
      " [-0.54176595 -2.46887769  0.4776064 ]\n",
      " [-0.55163733 -2.49409513  0.48205737]\n",
      " [-0.52449637 -2.42350725  0.46331509]\n",
      " [-0.58598403 -2.57716641  0.47691456]\n",
      " [-0.5114792  -2.39560331  0.47642697]\n",
      " [-0.53591205 -2.4508006   0.46284228]\n",
      " [-0.5319219  -2.44919946  0.49326228]\n",
      " [-0.547788   -2.48270783  0.47476873]\n",
      " [-0.56331871 -2.5210012   0.47629151]\n",
      " [-0.56069049 -2.51390359  0.47398022]\n",
      " [-0.54243528 -2.47390911  0.49015408]\n",
      " [-0.55421375 -2.49542788  0.46441972]\n",
      " [-0.52475319 -2.42670532  0.47337532]\n",
      " [-0.52308866 -2.42336824  0.47596929]\n",
      " [-0.54996829 -2.48796836  0.47464436]\n",
      " [-0.54339301 -2.47211612  0.47500936]\n",
      " [-0.52679816 -2.42900496  0.46322471]\n",
      " [-0.52485619 -2.42244135  0.45577584]\n",
      " [-0.51949813 -2.41349187  0.47106431]\n",
      " [-0.57419884 -2.54526248  0.46805853]\n",
      " [-0.5580298  -2.50674787  0.47166121]\n",
      " [-0.52519702 -2.42133985  0.44826427]\n",
      " [-0.56437298 -2.52211479  0.47124519]\n",
      " [-0.55751592 -2.50763395  0.47917869]\n",
      " [-0.56853825 -2.53222927  0.47095282]\n",
      " [-0.51586474 -2.40354413  0.46615471]\n",
      " [-0.54786289 -2.48565708  0.4847981 ]\n",
      " [-0.55484215 -2.5004476   0.47685171]\n",
      " [-0.55538502 -2.50246841  0.47931715]\n",
      " [-0.53427153 -2.44753281  0.4654203 ]\n",
      " [-0.52909087 -2.43448364  0.46313231]\n",
      " [-0.54299705 -2.47595652  0.49264287]\n",
      " [-0.56437298 -2.52211479  0.47124519]\n",
      " [-0.58682779 -2.58081876  0.48175725]\n",
      " [-0.52513992 -2.42568888  0.46580358]\n",
      " [-0.5314553  -2.43559531  0.44555183]\n",
      " [-0.5596344  -2.51277413  0.47903727]\n",
      " [-0.52051924 -2.41465209  0.46598289]\n",
      " [-0.54624492 -2.48243571  0.48740971]\n",
      " [-0.54568536 -2.48039039  0.48492776]\n",
      " [-0.5253843  -2.42886654  0.47587179]\n",
      " [-0.52743692 -2.43117931  0.46571094]\n",
      " [-0.54129565 -2.46978633  0.48517882]\n",
      " [-0.51381771 -2.40119104  0.47633918]\n",
      " [-0.54730441 -2.48361278  0.48231971]\n",
      " [-0.58137339 -2.55822545  0.45276697]\n",
      " [-0.55961703 -2.50987801  0.46907189]\n",
      " [-0.54663486 -2.47855599  0.46982674]\n",
      " [-0.52475319 -2.42670532  0.47337532]\n",
      " [-0.55477835 -2.49748634  0.46687656]\n",
      " [-0.55213687 -2.49320486  0.47451724]\n",
      " [-0.53403145 -2.45160519  0.4830416 ]\n",
      " [-0.58511397 -2.57346794  0.47207566]\n",
      " [-0.55477835 -2.49748634  0.46687656]\n",
      " [-0.55908867 -2.51360235  0.48657196]\n",
      " [-0.52384862 -2.42131896  0.46082821]\n",
      " [-0.53010322 -2.4356031   0.45807942]\n",
      " [-0.55748328 -2.5047192   0.46920472]\n",
      " [-0.52767059 -2.43434545  0.47577215]\n",
      " [-0.52847203 -2.43956003  0.48837162]\n",
      " [-0.57765613 -2.55595526  0.475193  ]\n",
      " [-0.58010583 -2.56271992  0.47745277]\n",
      " [-0.53855935 -2.45515099  0.45523186]\n",
      " [-0.5596344  -2.51277413  0.47903727]\n",
      " [-0.52058282 -2.42190483  0.49381848]\n",
      " [-0.54730441 -2.48361278  0.48231971]\n",
      " [-0.52485619 -2.42244135  0.45577584]\n",
      " [-0.55269219 -2.49524617  0.47698445]\n",
      " [-0.5445499  -2.47627157  0.47996655]\n",
      " [-0.55324185 -2.49727781  0.4794527 ]\n",
      " [-0.51446809 -2.40338162  0.47884765]\n",
      " [-0.54234799 -2.47096083  0.48008816]\n",
      " [-0.53238719 -2.44105777  0.45798752]]\n"
     ]
    }
   ],
   "source": [
    "def softmax(y_pred, y_actual):\n",
    "    return sum((y_actual-y_pred)**2)\n",
    "\n",
    "# softmax\n",
    "z = y_pred\n",
    "z_exp = [math.exp(i) for i in z]\n",
    "\n",
    "# categorical cross-entropy loss\n",
    "\n",
    "\n",
    "n_classes = 3\n",
    "net = Neural_Network(2, 3, n_classes)    \n",
    "\n",
    "\n",
    "y_pred = net.predict(X)\n",
    "print(y_pred)\n",
    "\n"
   ]
  },
  {
   "cell_type": "code",
   "execution_count": null,
   "metadata": {},
   "outputs": [],
   "source": [
    "\n",
    "def get_gradient(net, X, y):\n",
    "    w_delta = 1e-8\n",
    "\n",
    "    y_pred_current = net.predict(X)\n",
    "    error_current = softmax(y_pred_current, y)\n",
    "\n",
    "    dw1, dw2 = np.zeros((net.n0, net.n1)), np.zeros((net.n1, net.n2))\n",
    "    W1, W2 = np.copy(net.W1), np.copy(net.W2) \n",
    "    \n",
    "    for i, j in itertools.product(range(net.n0), range(net.n1)):\n",
    "        net.W1 = np.copy(W1)\n",
    "        net.W1[i][j] += w_delta\n",
    "        y_pred = net.predict(X)\n",
    "        error = softmax(y_pred, y)\n",
    "        dw1[i][j] = (error - error_current) / w_delta\n",
    "\n",
    "    for i, j in itertools.product(range(net.n1), range(net.n2)):\n",
    "        net.W2 = np.copy(W2)\n",
    "        net.W2[i][j] += w_delta\n",
    "        y_pred = net.predict(X)\n",
    "        error = softmax(y_pred, y)\n",
    "        dw2[i][j] = (error - error_current) / w_delta\n",
    "\n",
    "    net.W1, net.W2 = np.copy(W1), np.copy(W2)\n",
    "\n",
    "    return dw1, dw2\n",
    "\n",
    "\n",
    "\n",
    "n_epochs = 100\n",
    "learning_rate = 0.1\n",
    "\n",
    "errors = []\n",
    "for i in range(n_epochs):\n",
    "    dw1, dw2 = get_gradient(net, X, y)\n",
    "    net.W1 = net.W1 - learning_rate * dw1\n",
    "    net.W2 = net.W2 - learning_rate * dw2\n",
    "    y_pred = net.predict(X)\n",
    "    error = mse(y_pred, y)\n",
    "    errors.append(error)\n",
    "        \n",
    "\n",
    "matplotlib.pyplot.plot(range(0, len(errors)), errors, linewidth=2)\n"
   ]
  },
  {
   "cell_type": "code",
   "execution_count": null,
   "metadata": {},
   "outputs": [],
   "source": []
  },
  {
   "cell_type": "code",
   "execution_count": null,
   "metadata": {},
   "outputs": [],
   "source": []
  },
  {
   "cell_type": "code",
   "execution_count": null,
   "metadata": {},
   "outputs": [],
   "source": []
  },
  {
   "cell_type": "code",
   "execution_count": null,
   "metadata": {},
   "outputs": [],
   "source": []
  },
  {
   "cell_type": "code",
   "execution_count": null,
   "metadata": {},
   "outputs": [],
   "source": []
  },
  {
   "cell_type": "code",
   "execution_count": null,
   "metadata": {},
   "outputs": [],
   "source": []
  },
  {
   "cell_type": "code",
   "execution_count": null,
   "metadata": {},
   "outputs": [],
   "source": []
  },
  {
   "cell_type": "code",
   "execution_count": null,
   "metadata": {},
   "outputs": [],
   "source": []
  },
  {
   "cell_type": "code",
   "execution_count": null,
   "metadata": {},
   "outputs": [],
   "source": []
  },
  {
   "cell_type": "code",
   "execution_count": null,
   "metadata": {},
   "outputs": [],
   "source": []
  },
  {
   "cell_type": "code",
   "execution_count": null,
   "metadata": {},
   "outputs": [],
   "source": []
  },
  {
   "cell_type": "code",
   "execution_count": null,
   "metadata": {},
   "outputs": [],
   "source": []
  },
  {
   "cell_type": "code",
   "execution_count": null,
   "metadata": {},
   "outputs": [],
   "source": []
  },
  {
   "cell_type": "code",
   "execution_count": null,
   "metadata": {},
   "outputs": [],
   "source": []
  },
  {
   "cell_type": "code",
   "execution_count": null,
   "metadata": {},
   "outputs": [],
   "source": []
  },
  {
   "cell_type": "code",
   "execution_count": null,
   "metadata": {},
   "outputs": [],
   "source": [
    "import numpy as np\n",
    "\n",
    "class Neural_Network(object):\n",
    "    def __init__(self, Lambda=0):        \n",
    "        #Define Hyperparameters\n",
    "        self.inputLayerSize = 2\n",
    "        self.outputLayerSize = 1\n",
    "        self.hiddenLayerSize = 3\n",
    "        \n",
    "        #Weights (parameters)\n",
    "        self.W1 = np.random.randn(self.inputLayerSize,self.hiddenLayerSize)\n",
    "        self.W2 = np.random.randn(self.hiddenLayerSize,self.outputLayerSize)\n",
    "        \n",
    "        #Regularization Parameter:\n",
    "        self.Lambda = Lambda\n",
    "        \n",
    "    def forward(self, X):\n",
    "        #Propogate inputs though network\n",
    "        self.z2 = np.dot(X, self.W1)\n",
    "        self.a2 = self.sigmoid(self.z2)\n",
    "        self.z3 = np.dot(self.a2, self.W2)\n",
    "        yHat = self.sigmoid(self.z3) \n",
    "        return yHat\n",
    "        \n",
    "    def sigmoid(self, z):\n",
    "        #Apply sigmoid activation function to scalar, vector, or matrix\n",
    "        return 1/(1+np.exp(-z))\n",
    "    \n",
    "    def sigmoidPrime(self,z):\n",
    "        #Gradient of sigmoid\n",
    "        return np.exp(-z)/((1+np.exp(-z))**2)\n",
    "    \n",
    "    def costFunction(self, X, y):\n",
    "        #Compute cost for given X,y, use weights already stored in class.\n",
    "        self.yHat = self.forward(X)\n",
    "        J = 0.5*sum((y-self.yHat)**2)/X.shape[0] + (self.Lambda/2)*(sum(self.W1**2)+sum(self.W2**2))\n",
    "        return J\n",
    "        \n",
    "    def costFunctionPrime(self, X, y):\n",
    "        #Compute derivative with respect to W and W2 for a given X and y:\n",
    "        self.yHat = self.forward(X)\n",
    "        \n",
    "        delta3 = np.multiply(-(y-self.yHat), self.sigmoidPrime(self.z3))\n",
    "        #Add gradient of regularization term:\n",
    "        dJdW2 = np.dot(self.a2.T, delta3)/X.shape[0] + self.Lambda*self.W2\n",
    "        \n",
    "        delta2 = np.dot(delta3, self.W2.T)*self.sigmoidPrime(self.z2)\n",
    "        #Add gradient of regularization term:\n",
    "        dJdW1 = np.dot(X.T, delta2)/X.shape[0] + self.Lambda*self.W1\n",
    "        return dJdW1, dJdW2\n",
    "\n",
    "    def costFunctionPrimeManual(self, X, y):\n",
    "        #Compute derivative with respect to W and W2 for a given X and y:\n",
    "        J1 = self.costFunction(X,y)\n",
    "        delta = 1e-8\n",
    "        \n",
    "        \n",
    "        dJdW1 = np.zeros((self.inputLayerSize,self.hiddenLayerSize))\n",
    "        dJdW2 = np.zeros((self.hiddenLayerSize,self.outputLayerSize))\n",
    "\n",
    "        \n",
    "        W1copy = np.copy(self.W1)\n",
    "        W2copy = np.copy(self.W2)\n",
    "        \n",
    "        for i in range(self.inputLayerSize):\n",
    "            for j in range(self.hiddenLayerSize):\n",
    "                self.W1 = np.copy(W1copy)\n",
    "                self.W1[i][j] += delta\n",
    "                J2 = self.costFunction(X,y)\n",
    "                dj2 = (J2-J1) / delta\n",
    "                dJdW1[i][j] = dj2\n",
    "                \n",
    "        for i in range(self.hiddenLayerSize):\n",
    "            for j in range(self.outputLayerSize):\n",
    "                self.W2 = np.copy(W2copy)\n",
    "                self.W2[i][j] += delta\n",
    "                J2 = self.costFunction(X,y)\n",
    "                dj2 = (J2-J1) / delta\n",
    "                dJdW2[i][j] = dj2\n",
    "           \n",
    "        self.W1 = np.copy(W1copy)\n",
    "        self.W2 = np.copy(W2copy)\n",
    "        \n",
    "       \n",
    "        return dJdW1, dJdW2\n",
    "\n",
    "    #Helper functions for interacting with other methods/classes\n",
    "    def getParams(self):\n",
    "        #Get W1 and W2 Rolled into vector:\n",
    "        params = np.concatenate((self.W1.ravel(), self.W2.ravel()))\n",
    "        return params\n",
    "    \n",
    "    def setParams(self, params):\n",
    "        #Set W1 and W2 using single parameter vector:\n",
    "        W1_start = 0\n",
    "        W1_end = self.hiddenLayerSize*self.inputLayerSize\n",
    "        self.W1 = np.reshape(params[W1_start:W1_end], \\\n",
    "                             (self.inputLayerSize, self.hiddenLayerSize))\n",
    "        W2_end = W1_end + self.hiddenLayerSize*self.outputLayerSize\n",
    "        self.W2 = np.reshape(params[W1_end:W2_end], \\\n",
    "                             (self.hiddenLayerSize, self.outputLayerSize))\n",
    "        \n",
    "    def computeGradients(self, X, y):\n",
    "        dJdW1, dJdW2 = self.costFunctionPrime(X, y)\n",
    "        return np.concatenate((dJdW1.ravel(), dJdW2.ravel()))\n",
    "    \n",
    "    \n",
    "\n",
    "# X = (hours sleeping, hours studying), y = Score on test\n",
    "X = np.array(([3,5], [5,1], [10,2]), dtype=float)\n",
    "y = np.array(([75], [82], [93]), dtype=float)\n",
    "\n",
    "# normalize\n",
    "X = X/np.amax(X, axis=0)\n",
    "y = y/100 #Max test score is 100\n",
    "\n",
    "\n",
    "NN = Neural_Network()\n",
    "\n",
    "\n",
    "\n",
    "learning_rate = 0.1\n",
    "\n",
    "costs = []\n",
    "for i in range(1000):\n",
    "    dJdW1, dJdW2 = NN.costFunctionPrimeManual(X,y)\n",
    "    NN.W1 = NN.W1 - learning_rate * dJdW1\n",
    "    NN.W2 = NN.W2 - learning_rate * dJdW2\n",
    "    cost3 = NN.costFunction(X, y)\n",
    "    costs.append(cost3)\n",
    "        \n",
    "\n"
   ]
  }
 ],
 "metadata": {
  "kernelspec": {
   "display_name": "Python 3",
   "language": "python",
   "name": "python3"
  },
  "language_info": {
   "codemirror_mode": {
    "name": "ipython",
    "version": 3
   },
   "file_extension": ".py",
   "mimetype": "text/x-python",
   "name": "python",
   "nbconvert_exporter": "python",
   "pygments_lexer": "ipython3",
   "version": "3.5.3"
  }
 },
 "nbformat": 4,
 "nbformat_minor": 2
}
