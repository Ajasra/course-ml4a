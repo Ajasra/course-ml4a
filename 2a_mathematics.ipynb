{
 "cells": [
  {
   "cell_type": "markdown",
   "metadata": {},
   "source": [
    "# Session 2a: Numpy and mathematics review\n",
    "\n",
    "Before learning about what regression and classification are, we will do a review of key mathematical concepts from linear algebra and calculus. These fundamentals will be helpful to understand some of the theoretical materials of the next 3 sessions. Additionally, we will introduce Numpy."
   ]
  },
  {
   "cell_type": "markdown",
   "metadata": {},
   "source": [
    "## Numpy\n",
    "\n",
    "We will be working a lot with Numpy, a Python library which adds support for large-scale vector and matrices, as well as fast and efficient computation of important mathematical functions operating on data. \n",
    "\n",
    "Numpy is a very large library with many convenient functions. A review of them is beyond the scope of this chapter. We will introduce relevant numpy functions in future sessions as we go, depending on when we need them. A good non-comprehensive review can also be found [here](https://cs231n.github.io/python-numpy-tutorial/). If you are unfamiliar with Numpy, it will be very helpful to go through the exercises in that tutorial, which also contain a short Python review. \n",
    "\n",
    "In the following section, we will just review some of the most common operations briefly, focusing on the ones that will help us in the next section.\n",
    "\n",
    "To start, import numpy (frequently as `np` to make calls shorter)."
   ]
  },
  {
   "cell_type": "code",
   "execution_count": 1,
   "metadata": {},
   "outputs": [],
   "source": [
    "import numpy as np"
   ]
  },
  {
   "cell_type": "markdown",
   "metadata": {},
   "source": [
    "Numpy has many convenience functions for generating lists of numbers. For example, to create a list of all integers between 0 and 10:"
   ]
  },
  {
   "cell_type": "code",
   "execution_count": 2,
   "metadata": {},
   "outputs": [
    {
     "data": {
      "text/plain": [
       "array([0, 1, 2, 3, 4, 5, 6, 7, 8, 9])"
      ]
     },
     "execution_count": 2,
     "metadata": {},
     "output_type": "execute_result"
    }
   ],
   "source": [
    "np.arange(0, 10)"
   ]
  },
  {
   "cell_type": "markdown",
   "metadata": {},
   "source": [
    "The `numpy.linspace` function gives you a linear interpolation of `n` numbers between two endpoints."
   ]
  },
  {
   "cell_type": "code",
   "execution_count": 3,
   "metadata": {},
   "outputs": [
    {
     "data": {
      "text/plain": [
       "array([ 0.        ,  1.42857143,  2.85714286,  4.28571429,  5.71428571,\n",
       "        7.14285714,  8.57142857, 10.        ])"
      ]
     },
     "execution_count": 3,
     "metadata": {},
     "output_type": "execute_result"
    }
   ],
   "source": [
    "np.linspace(0, 10, 8)"
   ]
  },
  {
   "cell_type": "markdown",
   "metadata": {},
   "source": [
    "## Vectors\n",
    "\n",
    "Vectors can be represented using `numpy.array`. So for example, to represent the vector:\n",
    "\n",
    "$$\n",
    "v = \\begin{bmatrix} 2 \\\\ 3 \\\\ 1 \\end{bmatrix}\n",
    "$$"
   ]
  },
  {
   "cell_type": "code",
   "execution_count": 4,
   "metadata": {},
   "outputs": [
    {
     "data": {
      "text/plain": [
       "array([2, 3, 1])"
      ]
     },
     "execution_count": 4,
     "metadata": {},
     "output_type": "execute_result"
    }
   ],
   "source": [
    "np.array([2, 3, 1])"
   ]
  },
  {
   "cell_type": "markdown",
   "metadata": {},
   "source": [
    "When two vectors of equal length are added, the elements are added point-wise.\n",
    "\n",
    "$$\n",
    "\\begin{bmatrix} 2 \\\\ 3 \\\\ 1 \\end{bmatrix} + \\begin{bmatrix} 0 \\\\ 2 \\\\ -2 \\end{bmatrix} = \\begin{bmatrix} 2 \\\\ 5 \\\\ -1 \\end{bmatrix}\n",
    "$$\n"
   ]
  },
  {
   "cell_type": "code",
   "execution_count": 5,
   "metadata": {},
   "outputs": [
    {
     "name": "stdout",
     "output_type": "stream",
     "text": [
      "[ 2  5 -1]\n"
     ]
    }
   ],
   "source": [
    "a = np.array([2, 3, 1])\n",
    "b = np.array([0, 2, -2])\n",
    "c = a + b\n",
    "print(c)"
   ]
  },
  {
   "cell_type": "markdown",
   "metadata": {},
   "source": [
    "A vector can be multiplied element-wise by a number (called a \"scalar\"). For example:\n",
    "    \n",
    "\n",
    "$$\n",
    "3 \\begin{bmatrix} 2 \\\\ 3 \\\\ 1 \\end{bmatrix} = \\begin{bmatrix} 6 \\\\ 9 \\\\ 3 \\end{bmatrix}\n",
    "$$\n"
   ]
  },
  {
   "cell_type": "code",
   "execution_count": 6,
   "metadata": {},
   "outputs": [
    {
     "data": {
      "text/plain": [
       "array([6, 9, 3])"
      ]
     },
     "execution_count": 6,
     "metadata": {},
     "output_type": "execute_result"
    }
   ],
   "source": [
    "3 * np.array([2,3,1])"
   ]
  },
  {
   "cell_type": "markdown",
   "metadata": {},
   "source": [
    "A dot product is defined as the sum of the element-wise products of two equal-sized vectors. For two vectors $a$ and $b$, it is denoted as $a \\cdot b$ or as $a b^T$ (where T refers to the transpose operation, introduced further down this notebook.\n",
    "\n",
    "$$\n",
    "\\begin{bmatrix} 1 & -2 & 2 \\end{bmatrix} \\begin{bmatrix} 0 \\\\ 2 \\\\ 3 \\end{bmatrix} = 2\n",
    "$$\n",
    "\n",
    "In other words, it's:\n",
    "\n",
    "$$\n",
    "1 \\cdot 0 + -2 \\cdot 2 + 2 \\cdot 3 = 2\n",
    "$$\n",
    "\n",
    "This can be calculated with the `numpy.dot` function:"
   ]
  },
  {
   "cell_type": "code",
   "execution_count": 7,
   "metadata": {},
   "outputs": [
    {
     "name": "stdout",
     "output_type": "stream",
     "text": [
      "2\n"
     ]
    }
   ],
   "source": [
    "a = np.array([1,-2,2])\n",
    "b = np.array([0,2,3])\n",
    "c = np.dot(a, b)\n",
    "print(c)"
   ]
  },
  {
   "cell_type": "markdown",
   "metadata": {},
   "source": [
    "Or the shorter way:"
   ]
  },
  {
   "cell_type": "code",
   "execution_count": 8,
   "metadata": {},
   "outputs": [
    {
     "name": "stdout",
     "output_type": "stream",
     "text": [
      "2\n"
     ]
    }
   ],
   "source": [
    "c = a.dot(b)\n",
    "print(c)"
   ]
  },
  {
   "cell_type": "markdown",
   "metadata": {},
   "source": [
    "## Matrices\n",
    "\n",
    "A matrix is a rectangular array of numbers. For example, consider the following 2x3 matrix:\n",
    "\n",
    "$$\n",
    "\\begin{bmatrix} 2 & 3 & 1 \\\\ 0 & 4 & -2 \\end{bmatrix}\n",
    "$$\n",
    "\n",
    "Note that we always denote the size of the matix as rows x columns. So a 2x3 matrix has two rows and 3 columns.\n",
    "\n",
    "Numpy can create matrices from normal Python lists using `numpy.matrix`. For example:"
   ]
  },
  {
   "cell_type": "code",
   "execution_count": 9,
   "metadata": {},
   "outputs": [
    {
     "data": {
      "text/plain": [
       "matrix([[ 2,  3,  1],\n",
       "        [ 0,  4, -2]])"
      ]
     },
     "execution_count": 9,
     "metadata": {},
     "output_type": "execute_result"
    }
   ],
   "source": [
    "np.matrix([[2,3,1],[0, 4,-2]])"
   ]
  },
  {
   "cell_type": "markdown",
   "metadata": {},
   "source": [
    "To instantiate a matrix of all zeros:"
   ]
  },
  {
   "cell_type": "code",
   "execution_count": 10,
   "metadata": {},
   "outputs": [
    {
     "data": {
      "text/plain": [
       "array([[0., 0., 0.],\n",
       "       [0., 0., 0.],\n",
       "       [0., 0., 0.]])"
      ]
     },
     "execution_count": 10,
     "metadata": {},
     "output_type": "execute_result"
    }
   ],
   "source": [
    "np.zeros((3, 3))"
   ]
  },
  {
   "cell_type": "markdown",
   "metadata": {},
   "source": [
    "To instantiate a matrix of all ones:"
   ]
  },
  {
   "cell_type": "code",
   "execution_count": 11,
   "metadata": {},
   "outputs": [
    {
     "data": {
      "text/plain": [
       "array([[1., 1.],\n",
       "       [1., 1.]])"
      ]
     },
     "execution_count": 11,
     "metadata": {},
     "output_type": "execute_result"
    }
   ],
   "source": [
    "np.ones((2, 2))"
   ]
  },
  {
   "cell_type": "markdown",
   "metadata": {},
   "source": [
    "In linear algebra, a square matrix whose elements are all zeros, except the diagonals, which are ones, is called an \"identity matrix.\" \n",
    "\n",
    "For example:\n",
    "\n",
    "$$\n",
    "\\mathbf I =\n",
    "\\begin{bmatrix}\n",
    "1 & 0 & 0 \\\\\n",
    "0 & 1 & 0 \\\\\n",
    "0 & 0 & 1\n",
    "\\end{bmatrix}\n",
    "$$\n",
    "\n",
    "is a 3x3 identity matrix. The reason why it is called an identity matrix is that it is analagous to multiplying a scalar by 1. A matrix multiplied by an identity matrix is unchanged. \n",
    "\n",
    "$$\n",
    "\\mathbf I v = v\n",
    "$$\n",
    "\n",
    "To instantiate an identity matrix, use `numpy.eye`. For example:"
   ]
  },
  {
   "cell_type": "code",
   "execution_count": 12,
   "metadata": {},
   "outputs": [
    {
     "data": {
      "text/plain": [
       "array([[1., 0., 0.],\n",
       "       [0., 1., 0.],\n",
       "       [0., 0., 1.]])"
      ]
     },
     "execution_count": 12,
     "metadata": {},
     "output_type": "execute_result"
    }
   ],
   "source": [
    "np.eye(3)"
   ]
  },
  {
   "cell_type": "markdown",
   "metadata": {},
   "source": [
    "Notice when you multiple an identity matrix by another matrix, the result is the same as the original matrix. This goes in either order. Basically, the identity matrix is like $\\times 1$."
   ]
  },
  {
   "cell_type": "code",
   "execution_count": 13,
   "metadata": {},
   "outputs": [
    {
     "name": "stdout",
     "output_type": "stream",
     "text": [
      "original matrix = \n",
      " [[ 9  5  6]\n",
      " [-1  0  5]\n",
      " [-2  4  2]]\n",
      "I * M = \n",
      " [[ 9.  5.  6.]\n",
      " [-1.  0.  5.]\n",
      " [-2.  4.  2.]]\n",
      "M * I = \n",
      " [[ 9.  5.  6.]\n",
      " [-1.  0.  5.]\n",
      " [-2.  4.  2.]]\n"
     ]
    }
   ],
   "source": [
    "M = np.matrix([[9,5,6],[-1,0,5],[-2,4,2]])\n",
    "I = np.eye(3)\n",
    "print(\"original matrix = \\n\", M)\n",
    "M2 = I * M\n",
    "print(\"I * M = \\n\", M2)\n",
    "M3 = M * I\n",
    "print(\"M * I = \\n\", M3)"
   ]
  },
  {
   "cell_type": "markdown",
   "metadata": {},
   "source": [
    "To instantiate a matrix of random elements (between 0 and 1), you can use `numpy.random`:"
   ]
  },
  {
   "cell_type": "code",
   "execution_count": 14,
   "metadata": {},
   "outputs": [
    {
     "name": "stdout",
     "output_type": "stream",
     "text": [
      "[[0.17897395 0.13343232 0.30168133]\n",
      " [0.62985091 0.42768109 0.51196246]]\n"
     ]
    }
   ],
   "source": [
    "A = np.random.random((2, 3))\n",
    "print(A)"
   ]
  },
  {
   "cell_type": "markdown",
   "metadata": {},
   "source": [
    "Transposition is to reverse the axes of two matrices. So the element at `i,j` in the transposed matrix is equal to the element at `j,i` in the original. The matrix A transposed is denoted as $A^T$. "
   ]
  },
  {
   "cell_type": "code",
   "execution_count": 15,
   "metadata": {},
   "outputs": [
    {
     "name": "stdout",
     "output_type": "stream",
     "text": [
      "[[0.17897395 0.62985091]\n",
      " [0.13343232 0.42768109]\n",
      " [0.30168133 0.51196246]]\n"
     ]
    }
   ],
   "source": [
    "A_transpose = np.transpose(A)\n",
    "print(A_transpose)"
   ]
  },
  {
   "cell_type": "markdown",
   "metadata": {},
   "source": [
    "It can also be done with the shorthand `.T` operation, as in:"
   ]
  },
  {
   "cell_type": "code",
   "execution_count": 16,
   "metadata": {},
   "outputs": [
    {
     "name": "stdout",
     "output_type": "stream",
     "text": [
      "[[0.17897395 0.62985091]\n",
      " [0.13343232 0.42768109]\n",
      " [0.30168133 0.51196246]]\n"
     ]
    }
   ],
   "source": [
    "A_transpose = A.T\n",
    "print(A_transpose)"
   ]
  },
  {
   "cell_type": "markdown",
   "metadata": {},
   "source": [
    "## Matrix operations and properties\n",
    "\n",
    "Like regular vectors, matrices are added point-wise (or element-wise) and must be of the same size. So for example:\n",
    "\n",
    "$$\n",
    "\\begin{bmatrix} 4 & 3 \\\\ 3 & -1 \\\\ -2 & 1 \\end{bmatrix} + \\begin{bmatrix} -2 & 1 \\\\ 5 & 3 \\\\ 1 & 0 \\end{bmatrix} = \\begin{bmatrix} 2 & 4 \\\\ 8 & 2 \\\\ -1 & 1 \\end{bmatrix} \n",
    "$$\n"
   ]
  },
  {
   "cell_type": "code",
   "execution_count": 17,
   "metadata": {},
   "outputs": [
    {
     "name": "stdout",
     "output_type": "stream",
     "text": [
      "[[ 2  4]\n",
      " [ 8  2]\n",
      " [-1  1]]\n"
     ]
    }
   ],
   "source": [
    "a = np.matrix([[4, 3],[3,-1],[-2,1]])\n",
    "b = np.matrix([[-2, 1],[5,3],[1,0]])\n",
    "c = a + b\n",
    "print(c)"
   ]
  },
  {
   "cell_type": "markdown",
   "metadata": {},
   "source": [
    "Also like vectors, matrices can be multiplied element-wise by a scalar.\n",
    "\n",
    "$$\n",
    "-2 \\begin{bmatrix} 1 & -2 & 0 \\\\ 6 & 4 & -2 \\end{bmatrix} = \\begin{bmatrix} -2 & 4 & 0 \\\\ -12 & -8 & 4 \\end{bmatrix} \n",
    "$$\n"
   ]
  },
  {
   "cell_type": "code",
   "execution_count": 18,
   "metadata": {},
   "outputs": [
    {
     "data": {
      "text/plain": [
       "matrix([[ -2,   4,   0],\n",
       "        [-12,  -8,   4]])"
      ]
     },
     "execution_count": 18,
     "metadata": {},
     "output_type": "execute_result"
    }
   ],
   "source": [
    "a = np.matrix([[1,-2,0],[6,4,-2]])\n",
    "-2 * a"
   ]
  },
  {
   "cell_type": "markdown",
   "metadata": {},
   "source": [
    "To multiply two matrices together, you take the dot product of each row of the first matrix and each column of the second matrix, as in:  \n",
    "\n",
    "![matrix multiplication via wikipedia](https://wikimedia.org/api/rest_v1/media/math/render/svg/780671bdfb3fab93187156d2c226df6fe36746fe)\n",
    "\n",
    "So in order to multiply matrices $A$ and $B$ together, as in $C = A \\dot B$, $A$ must have the same number of columns as $B$ has rows. For example:\n",
    "\n",
    "\n",
    "$$\n",
    "\\begin{bmatrix} 1 & -2 & 0 \\\\ 6 & 4 & -2 \\end{bmatrix} * \\begin{bmatrix} 4 & -1 \\\\ 0 & -2 \\\\ 1 & 3 \\end{bmatrix} = \\begin{bmatrix} 4 & 3 \\\\ 22 & -20 \\end{bmatrix} \n",
    "$$\n"
   ]
  },
  {
   "cell_type": "code",
   "execution_count": 19,
   "metadata": {},
   "outputs": [
    {
     "name": "stdout",
     "output_type": "stream",
     "text": [
      "[[  4   3]\n",
      " [ 22 -20]]\n"
     ]
    }
   ],
   "source": [
    "a = np.matrix([[1,-2,0],[6,4,-2]])\n",
    "b = np.matrix([[4,-1],[0,-2],[1,3]])\n",
    "c = a * b\n",
    "print(c)"
   ]
  },
  {
   "cell_type": "markdown",
   "metadata": {},
   "source": [
    "The Hadamard product of two matrices differs from normal multiplication in that it is the element-wise multiplication of two matrices. \n",
    "\n",
    "$$\n",
    "\\mathbf A \\odot B =\n",
    "\\begin{bmatrix}\n",
    "A_{1,1} B_{1,1} & \\dots & A_{1,n} B_{1,n} \\\\\n",
    "\\vdots & \\dots & \\vdots \\\\\n",
    "A_{m,1} B_{m,1} & \\dots & A_{m,n} B_{m,n}\n",
    "\\end{bmatrix}\n",
    "$$\n",
    "\n",
    "So for example:\n",
    "\n",
    "$$\n",
    "\\begin{bmatrix} 3 & 1 \\\\ 0 & 5 \\end{bmatrix} \\odot \\begin{bmatrix} -2 & 4 \\\\ 1 & -2 \\end{bmatrix} = \\begin{bmatrix} -6 & 4 \\\\ 0 & -10 \\end{bmatrix} \n",
    "$$\n",
    "\n",
    "To calculate this with numpy, simply instantiate the matrices with `numpy.array` instead of `numpy.matrix` and it will use element-wise multiplication by default."
   ]
  },
  {
   "cell_type": "code",
   "execution_count": 20,
   "metadata": {},
   "outputs": [
    {
     "data": {
      "text/plain": [
       "array([[ -6,   4],\n",
       "       [  0, -10]])"
      ]
     },
     "execution_count": 20,
     "metadata": {},
     "output_type": "execute_result"
    }
   ],
   "source": [
    "a = np.array([[3,1],[0,5]])\n",
    "b = np.array([[-2,4],[1,-2]])\n",
    "np.multiply(a,b)"
   ]
  },
  {
   "cell_type": "markdown",
   "metadata": {},
   "source": [
    "## Functions\n",
    "\n",
    "A function is an equation which shows the value of some expression which depends on or more variables. For example:\n",
    "\n",
    "$$\n",
    "f(x) = 3x^2 - 5x + 9\n",
    "$$\n",
    "\n",
    "So for example, at $x=2$, $f(2)=11$. We will be encountering functions constantly. A neural network is one very big function.\n",
    "\n",
    "With functions, in machine learning, we often make a distinction between \"variables\" and \"parameters\".  The variable is that part of the equation which can vary, and the output depends on it. So the above function depends on $x$. The coefficients in the above function (3, -5, 9) are sometimes called parameters because they are characterize the shape of the function, but are held fixed."
   ]
  },
  {
   "cell_type": "code",
   "execution_count": 21,
   "metadata": {},
   "outputs": [
    {
     "data": {
      "text/plain": [
       "11"
      ]
     },
     "execution_count": 21,
     "metadata": {},
     "output_type": "execute_result"
    }
   ],
   "source": [
    "def f(x):\n",
    "    return 3*(x**2)-5*x+9\n",
    "\n",
    "f(2)"
   ]
  },
  {
   "cell_type": "markdown",
   "metadata": {},
   "source": [
    "## Derivatives\n",
    "\n",
    "The derivative of a function $f(x)$ is the instantaneous slope of the function at a given point, and is denoted as $f^\\prime(x)$.\n",
    "\n",
    "\n",
    "$$f^\\prime(x) = \\lim_{\\Delta x\\to 0} \\frac{f(x + \\Delta x) - f(x)}{\\Delta x} $$\n",
    "\n",
    "The derivative of $f$ with respect to $x$ can also be denoted as $\\frac{df}{dx}$.\n",
    "\n",
    "The derivative can be interpreted as the slope of a function at any point, as in the following [video clip](https://en.wikipedia.org/wiki/Derivative), which shows that the limit converges upon the true slope as $\\Delta x$ approaches 0.\n",
    "\n",
    "![slope](https://upload.wikimedia.org/wikipedia/commons/c/cc/Tangent_animation.gif)\n",
    "\n",
    "The derivative of a constant is 0.\n",
    "\n",
    "The derivative of a polynomial function is given below: \n",
    "\n",
    "$$\n",
    "f(x) = a x ^ b\n",
    "$$\n",
    "\n",
    "$$\n",
    "\\frac{df}{dx} = b a x^{b-1}\n",
    "$$\n",
    "\n",
    "For example, let:\n",
    "\n",
    "$$\n",
    "f(x) = -2 x^3\n",
    "$$\n",
    "\n",
    "then:\n",
    "\n",
    "$$\n",
    "\\frac{df}{dx} = -6 x^2\n",
    "$$\n"
   ]
  },
  {
   "cell_type": "code",
   "execution_count": 22,
   "metadata": {},
   "outputs": [
    {
     "name": "stdout",
     "output_type": "stream",
     "text": [
      "-16\n",
      "-24\n"
     ]
    }
   ],
   "source": [
    "def f(x):\n",
    "    return -2*(x**3)\n",
    "\n",
    "def f_deriv(x):\n",
    "    return -6*(x**2)\n",
    "\n",
    "print(f(2))\n",
    "print(f_deriv(2))"
   ]
  },
  {
   "cell_type": "markdown",
   "metadata": {},
   "source": [
    "## Chain rule\n",
    "\n",
    "Functions can be composites of multiple functions. For example, consider the function:\n",
    "\n",
    "$$\n",
    "f(x) = (4x-5)^3\n",
    "$$\n",
    "\n",
    "This function can be broken down by letting:\n",
    "\n",
    "$$\n",
    "h(x) = 4x-5 \\\\\n",
    "g(x) = x^3 \\\\\n",
    "f(x) = g(h(x)) \n",
    "$$\n",
    "\n",
    "The chain rule states that the derivative of a composite function $g(h(x))$ is:\n",
    "\n",
    "$$\n",
    "f^\\prime(x) = g^\\prime(h(x)) h^\\prime(x)\n",
    "$$\n",
    "\n",
    "Another way of expressing this is:\n",
    "\n",
    "\n",
    "$$\n",
    "\\frac{df}{dx} = \\frac{dg}{dh} \\frac{dh}{dx}\n",
    "$$\n",
    "\n",
    "Since $f$ and $g$ are both polynomials we find, we can easily calculate that:\n",
    "\n",
    "$$\n",
    "\\frac{dg}{dx} = 3x^2 \\\\\n",
    "\\frac{dh}{dx} = 4\n",
    "$$\n",
    "\n",
    "and therefore:\n",
    "\n",
    "$$\n",
    "\\frac{df}{dx} = 4(3(4x-5)^2) = 12x^2\n",
    "$$\n",
    "\n",
    "The chain rule is extremely important to the study of neural networks, because it is what allows us to find the derivative of the network's cost function analytically. We will see more about this in the next notebook."
   ]
  },
  {
   "cell_type": "markdown",
   "metadata": {},
   "source": [
    "## Chain rule\n",
    "\n",
    "Functions can be composites of multiple functions. For example, consider the function:\n",
    "\n",
    "$$\n",
    "f(x) = (4x-5)^3\n",
    "$$\n",
    "\n",
    "This function can be broken down by letting:\n",
    "\n",
    "$$\n",
    "h(x) = 4x-5 \\\\\n",
    "g(x) = x^3 \\\\\n",
    "f(x) = g(h(x)) \n",
    "$$\n",
    "\n",
    "The chain rule states that the derivative of a composite function $g(h(x))$ is:\n",
    "\n",
    "$$\n",
    "f^\\prime(x) = g^\\prime(h(x)) h^\\prime(x)\n",
    "$$\n",
    "\n",
    "Another way of expressing this is:\n",
    "\n",
    "\n",
    "$$\n",
    "\\frac{df}{dx} = \\frac{dg}{dh} \\frac{dh}{dx}\n",
    "$$\n",
    "\n",
    "Since $f$ and $g$ are both polynomials we find, we can easily calculate that:\n",
    "\n",
    "$$\n",
    "g^\\prime(x) = 3x^2 \\\\\n",
    "h^\\prime(x) = 4\n",
    "$$\n",
    "\n",
    "and therefore:\n",
    "\n",
    "$$\n",
    "f^\\prime(x) = g^\\prime(h(x)) h^\\prime(x) \\\\\n",
    "f^\\prime(x) = g^\\prime(4x-5) \\cdot 4 \\\\\n",
    "f^\\prime(x) = 3 \\cdot (4x-5)^2 \\cdot 4 \\\\\n",
    "f^\\prime(x) = 12 \\cdot (4x-5)^2\n",
    "$$\n",
    "\n",
    "The chain rule is extremely important to the study of neural networks, because it is what allows us to find the derivative of the network's cost function analytically. We will see more about this in the next notebook."
   ]
  },
  {
   "cell_type": "code",
   "execution_count": 23,
   "metadata": {},
   "outputs": [],
   "source": [
    "def h(x):\n",
    "    return 4*x-5\n",
    "\n",
    "def g(x):\n",
    "    return x**3\n",
    "\n",
    "def f(x):\n",
    "    return g(h(x))\n",
    "\n",
    "def h_deriv(x):\n",
    "    return 4\n",
    "\n",
    "def g_deriv(x):\n",
    "    return 3*(x**2)\n",
    "\n",
    "def f_deriv(x):\n",
    "    return g_deriv(h(x)) * h_deriv(x)\n"
   ]
  },
  {
   "cell_type": "code",
   "execution_count": 24,
   "metadata": {},
   "outputs": [
    {
     "data": {
      "text/plain": [
       "1331"
      ]
     },
     "execution_count": 24,
     "metadata": {},
     "output_type": "execute_result"
    }
   ],
   "source": [
    "f(4)"
   ]
  },
  {
   "cell_type": "code",
   "execution_count": 25,
   "metadata": {},
   "outputs": [
    {
     "data": {
      "text/plain": [
       "108"
      ]
     },
     "execution_count": 25,
     "metadata": {},
     "output_type": "execute_result"
    }
   ],
   "source": [
    "f_deriv(2)"
   ]
  },
  {
   "cell_type": "markdown",
   "metadata": {},
   "source": [
    "## Multivariable functions\n",
    "\n",
    "A function may have more than one variable. For example:\n",
    "\n",
    "$$\n",
    "f(X) = w_1 x_1 + w_2 x_2 + w_3 x_3 + ... + w_n x_n + b \n",
    "$$\n",
    "\n",
    "or using sum notation:\n",
    "\n",
    "$$\n",
    "f(X) = b + \\sum_i w_i x_i\n",
    "$$\n",
    "\n",
    "One useful trick to simplify this formula is to append a $1$ to the input vector $X$, so that:\n",
    "\n",
    "$$\n",
    "X = \\begin{bmatrix} x_1 & x_2 & ... & x_n & 1 \\end{bmatrix}\n",
    "$$\n",
    "\n",
    "and let $b$ just be an element in the weights vector, so:\n",
    "\n",
    "$$\n",
    "W = \\begin{bmatrix} w_1 & w_2 & ... & w_2  & b \\end{bmatrix}\n",
    "$$\n",
    "\n",
    "So then we can rewrite the function as:\n",
    "\n",
    "$$\n",
    "f(X) = W X^T\n",
    "$$\n"
   ]
  },
  {
   "cell_type": "markdown",
   "metadata": {},
   "source": [
    "A partial derivative of a multivariable function is the derivative of the function with respect to just one of the variables, holding all the others constant.\n",
    "\n",
    "The partial derivative of $f$ with respect to $x_i$ is denoted as $\\frac{\\partial f}{\\partial x_i}$."
   ]
  },
  {
   "cell_type": "markdown",
   "metadata": {},
   "source": [
    "## Gradient\n",
    "\n",
    "The [gradient](https://en.wikipedia.org/wiki/Gradient) of a function is the vector containing each of its partial derivatives at point $x$.\n",
    "\n",
    "$$\n",
    "\\nabla f(X) = \\left[ \\frac{\\partial f}{\\partial x_1}, \\frac{\\partial f}{\\partial x_2}, ..., \\frac{\\partial f}{\\partial x_n}  \\right]\n",
    "$$\n",
    "\n",
    "We will look more closely at the gradient later when we get into how neural networks are trained."
   ]
  },
  {
   "cell_type": "markdown",
   "metadata": {},
   "source": [
    "## Plotting\n",
    "\n",
    "At this point, it will be helpful to introduce plotting. We'll be plotting a lot to make concepts more visually clear in the future."
   ]
  },
  {
   "cell_type": "code",
   "execution_count": 26,
   "metadata": {},
   "outputs": [
    {
     "data": {
      "text/plain": [
       "<matplotlib.text.Text at 0x1086a8240>"
      ]
     },
     "execution_count": 26,
     "metadata": {},
     "output_type": "execute_result"
    }
   ],
   "source": [
    "import matplotlib.pyplot as plt\n",
    "\n",
    "x = np.arange(-5, 5, 0.1)\n",
    "y_sin = np.sin(x)\n",
    "\n",
    "# make the figure\n",
    "plt.figure(figsize=(6,6))\n",
    "plt.plot(x, y_sin)\n",
    "plt.xlabel('x')\n",
    "plt.ylabel('y = sin(x)')\n",
    "plt.title('My plot title')"
   ]
  }
 ],
 "metadata": {
  "kernelspec": {
   "display_name": "Python 3",
   "language": "python",
   "name": "python3"
  },
  "language_info": {
   "codemirror_mode": {
    "name": "ipython",
    "version": 3
   },
   "file_extension": ".py",
   "mimetype": "text/x-python",
   "name": "python",
   "nbconvert_exporter": "python",
   "pygments_lexer": "ipython3",
   "version": "3.5.3"
  }
 },
 "nbformat": 4,
 "nbformat_minor": 2
}
