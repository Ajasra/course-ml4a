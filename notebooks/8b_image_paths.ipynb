{
 "cells": [
  {
   "cell_type": "code",
   "execution_count": 2,
   "metadata": {},
   "outputs": [
    {
     "name": "stdout",
     "output_type": "stream",
     "text": [
      "image: 101_ObjectCategories/lamp/image_0006.jpg, features: -6.93,-6.46,-0.16,6.74... \n",
      "image: 101_ObjectCategories/lamp/image_0047.jpg, features: 0.24,0.25,-9.59,5.22... \n",
      "image: 101_ObjectCategories/lamp/image_0058.jpg, features: -11.10,-0.77,3.52,-13.11... \n",
      "image: 101_ObjectCategories/lamp/image_0022.jpg, features: -2.71,-5.86,-2.41,2.70... \n",
      "image: 101_ObjectCategories/lamp/image_0005.jpg, features: -8.87,-6.02,-4.04,2.85... \n"
     ]
    }
   ],
   "source": [
    "import pickle\n",
    "\n",
    "images, pca_features, pca = pickle.load(open('features_caltech101.p', 'rb'))\n",
    "\n",
    "for i, f in list(zip(images, pca_features))[0:5]:\n",
    "    print(\"image: %s, features: %0.2f,%0.2f,%0.2f,%0.2f... \"%(i, f[0], f[1], f[2], f[3]))"
   ]
  },
  {
   "cell_type": "code",
   "execution_count": 7,
   "metadata": {},
   "outputs": [],
   "source": [
    "num_images = 10000\n",
    "\n",
    "if len(images) > num_images:\n",
    "    sort_order = sorted(random.sample(xrange(len(images)), num_images))\n",
    "    images = [images[i] for i in sort_order]\n",
    "    pca_features = [pca_features[i] for i in sort_order]"
   ]
  },
  {
   "cell_type": "code",
   "execution_count": 2,
   "metadata": {},
   "outputs": [
    {
     "ename": "DeprecationWarning",
     "evalue": "To avoid name collision with the igraph project, this visualization library has been renamed to 'jgraph'. Please upgrade when convenient.",
     "output_type": "error",
     "traceback": [
      "\u001b[0;31m---------------------------------------------------------------------------\u001b[0m",
      "\u001b[0;31mDeprecationWarning\u001b[0m                        Traceback (most recent call last)",
      "\u001b[0;32m<ipython-input-2-33aea67291aa>\u001b[0m in \u001b[0;36m<module>\u001b[0;34m()\u001b[0m\n\u001b[1;32m      1\u001b[0m \u001b[0;34m\u001b[0m\u001b[0m\n\u001b[0;32m----> 2\u001b[0;31m \u001b[0;32mfrom\u001b[0m \u001b[0migraph\u001b[0m \u001b[0;32mimport\u001b[0m \u001b[0;34m*\u001b[0m\u001b[0;34m\u001b[0m\u001b[0m\n\u001b[0m\u001b[1;32m      3\u001b[0m \u001b[0;34m\u001b[0m\u001b[0m\n\u001b[1;32m      4\u001b[0m \u001b[0mkNN\u001b[0m \u001b[0;34m=\u001b[0m \u001b[0;36m30\u001b[0m\u001b[0;34m\u001b[0m\u001b[0m\n\u001b[1;32m      5\u001b[0m \u001b[0;34m\u001b[0m\u001b[0m\n",
      "\u001b[0;32m~/anaconda3/lib/python3.6/site-packages/igraph/__init__.py\u001b[0m in \u001b[0;36m<module>\u001b[0;34m()\u001b[0m\n\u001b[1;32m      6\u001b[0m \u001b[0m__license__\u001b[0m \u001b[0;34m=\u001b[0m \u001b[0;34m\"MIT\"\u001b[0m\u001b[0;34m\u001b[0m\u001b[0m\n\u001b[1;32m      7\u001b[0m \u001b[0;34m\u001b[0m\u001b[0m\n\u001b[0;32m----> 8\u001b[0;31m raise DeprecationWarning(\"To avoid name collision with the igraph project, \"\n\u001b[0m\u001b[1;32m      9\u001b[0m                          \u001b[0;34m\"this visualization library has been renamed to \"\u001b[0m\u001b[0;34m\u001b[0m\u001b[0m\n\u001b[1;32m     10\u001b[0m                          \"'jgraph'. Please upgrade when convenient.\")\n",
      "\u001b[0;31mDeprecationWarning\u001b[0m: To avoid name collision with the igraph project, this visualization library has been renamed to 'jgraph'. Please upgrade when convenient."
     ]
    }
   ],
   "source": [
    "\n",
    "from igraph import *\n",
    "\n",
    "kNN = 30\n",
    "\n",
    "graph = Graph(directed=True)\n",
    "graph.add_vertices(len(images))\n",
    "\n",
    "for i in tqdm(range(len(images))):\n",
    "    distances = [ distance.cosine(pca_features[i], feat) for feat in pca_features ]\n",
    "    idx_kNN = sorted(range(len(distances)), key=lambda k: distances[k])[1:kNN+1]\n",
    "    for j in idx_kNN:\n",
    "        graph.add_edge(i, j, weight=distances[j])\n",
    "    \n",
    "summary(graph)"
   ]
  },
  {
   "cell_type": "code",
   "execution_count": null,
   "metadata": {},
   "outputs": [],
   "source": [
    "pickle.dump([images, graph], open('data/graph_caltech101_30knn.p', 'wb'))\n",
    "#images, graph = pickle.load(open('../data/graph_caltech101_30knn.p', 'r'))"
   ]
  },
  {
   "cell_type": "code",
   "execution_count": null,
   "metadata": {},
   "outputs": [],
   "source": [
    "def get_concatenated_images(indexes, thumb_height):\n",
    "    thumbs = []\n",
    "    for idx in indexes:\n",
    "        img = Image.open(images[idx])\n",
    "        img = img.convert('RGB')\n",
    "        img = img.resize((int(img.width * thumb_height / img.height), thumb_height))\n",
    "        thumbs.append(img)\n",
    "    concat_image = np.concatenate([np.asarray(t) for t in thumbs], axis=1)\n",
    "    return concat_image"
   ]
  },
  {
   "cell_type": "code",
   "execution_count": null,
   "metadata": {},
   "outputs": [],
   "source": [
    "# pick two random indices\n",
    "idx1 = int(len(images) * random.random())\n",
    "idx2 = int(len(images) * random.random())\n",
    "\n",
    "# run get_shortest_paths\n",
    "path = graph.get_shortest_paths(idx1, to=idx2, mode=OUT, output='vpath', weights='weight')[0]\n",
    "\n",
    "# retrieve the images, concatenate into one, and display them\n",
    "results_image = get_concatenated_images(path, 200)\n",
    "matplotlib.pyplot.figure(figsize = (16,12))\n",
    "imshow(results_image)"
   ]
  }
 ],
 "metadata": {
  "kernelspec": {
   "display_name": "Python 3",
   "language": "python",
   "name": "python3"
  },
  "language_info": {
   "codemirror_mode": {
    "name": "ipython",
    "version": 3
   },
   "file_extension": ".py",
   "mimetype": "text/x-python",
   "name": "python",
   "nbconvert_exporter": "python",
   "pygments_lexer": "ipython3",
   "version": "3.6.3"
  }
 },
 "nbformat": 4,
 "nbformat_minor": 2
}
