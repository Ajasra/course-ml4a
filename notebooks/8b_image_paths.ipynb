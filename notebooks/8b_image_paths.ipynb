{
 "cells": [
  {
   "cell_type": "code",
   "execution_count": 1,
   "metadata": {},
   "outputs": [
    {
     "name": "stdout",
     "output_type": "stream",
     "text": [
      "image: 101_ObjectCategories/lamp/image_0006.jpg, features: -6.93,-6.46,-0.16,6.74... \n",
      "image: 101_ObjectCategories/lamp/image_0047.jpg, features: 0.24,0.25,-9.59,5.22... \n",
      "image: 101_ObjectCategories/lamp/image_0058.jpg, features: -11.10,-0.77,3.52,-13.11... \n",
      "image: 101_ObjectCategories/lamp/image_0022.jpg, features: -2.71,-5.86,-2.41,2.70... \n",
      "image: 101_ObjectCategories/lamp/image_0005.jpg, features: -8.87,-6.02,-4.04,2.85... \n"
     ]
    }
   ],
   "source": [
    "import pickle\n",
    "\n",
    "images, pca_features, pca = pickle.load(open('features_caltech101.p', 'rb'))\n",
    "\n",
    "for i, f in list(zip(images, pca_features))[0:5]:\n",
    "    print(\"image: %s, features: %0.2f,%0.2f,%0.2f,%0.2f... \"%(i, f[0], f[1], f[2], f[3]))"
   ]
  },
  {
   "cell_type": "code",
   "execution_count": 2,
   "metadata": {},
   "outputs": [],
   "source": [
    "num_images = 10000\n",
    "\n",
    "if len(images) > num_images:\n",
    "    sort_order = sorted(random.sample(xrange(len(images)), num_images))\n",
    "    images = [images[i] for i in sort_order]\n",
    "    pca_features = [pca_features[i] for i in sort_order]"
   ]
  },
  {
   "cell_type": "code",
   "execution_count": null,
   "metadata": {},
   "outputs": [
    {
     "name": "stdout",
     "output_type": "stream",
     "text": [
      "0 / 9144\n",
      "100 / 9144\n",
      "200 / 9144\n",
      "300 / 9144\n",
      "400 / 9144\n",
      "500 / 9144\n",
      "600 / 9144\n",
      "700 / 9144\n",
      "800 / 9144\n",
      "900 / 9144\n",
      "1000 / 9144\n",
      "1100 / 9144\n",
      "1200 / 9144\n",
      "1300 / 9144\n",
      "1400 / 9144\n",
      "1500 / 9144\n",
      "1600 / 9144\n",
      "1700 / 9144\n",
      "1800 / 9144\n",
      "1900 / 9144\n",
      "2000 / 9144\n",
      "2100 / 9144\n",
      "2200 / 9144\n",
      "2300 / 9144\n",
      "2400 / 9144\n",
      "2500 / 9144\n",
      "2600 / 9144\n",
      "2700 / 9144\n",
      "2800 / 9144\n",
      "2900 / 9144\n",
      "3000 / 9144\n",
      "3100 / 9144\n",
      "3200 / 9144\n",
      "3300 / 9144\n",
      "3400 / 9144\n",
      "3500 / 9144\n",
      "3600 / 9144\n",
      "3700 / 9144\n",
      "3800 / 9144\n",
      "3900 / 9144\n",
      "4000 / 9144\n",
      "4100 / 9144\n",
      "4200 / 9144\n",
      "4300 / 9144\n",
      "4400 / 9144\n",
      "4500 / 9144\n",
      "4600 / 9144\n",
      "4700 / 9144\n",
      "4800 / 9144\n",
      "4900 / 9144\n",
      "5000 / 9144\n",
      "5100 / 9144\n",
      "5200 / 9144\n",
      "5300 / 9144\n",
      "5400 / 9144\n",
      "5500 / 9144\n",
      "5600 / 9144\n",
      "5700 / 9144\n",
      "5800 / 9144\n",
      "5900 / 9144\n",
      "6000 / 9144\n",
      "6100 / 9144\n",
      "6200 / 9144\n",
      "6300 / 9144\n",
      "6400 / 9144\n",
      "6500 / 9144\n",
      "6600 / 9144\n",
      "6700 / 9144\n",
      "6800 / 9144\n",
      "6900 / 9144\n",
      "7000 / 9144\n",
      "7100 / 9144\n",
      "7200 / 9144\n",
      "7300 / 9144\n",
      "7400 / 9144\n",
      "7500 / 9144\n",
      "7600 / 9144\n",
      "7700 / 9144\n",
      "7800 / 9144\n",
      "7900 / 9144\n",
      "8000 / 9144\n",
      "8100 / 9144\n",
      "8200 / 9144\n"
     ]
    }
   ],
   "source": [
    "from scipy.spatial import distance\n",
    "from igraph import *\n",
    "\n",
    "kNN = 30\n",
    "\n",
    "graph = Graph(directed=True)\n",
    "graph.add_vertices(len(images))\n",
    "\n",
    "for i in range(len(images)):\n",
    "    if i % 100 == 0:\n",
    "        print(\"%d / %d\"%(i, len(images)))\n",
    "    distances = [ distance.cosine(pca_features[i], feat) for feat in pca_features ]\n",
    "    idx_kNN = sorted(range(len(distances)), key=lambda k: distances[k])[1:kNN+1]\n",
    "    for j in idx_kNN:\n",
    "        graph.add_edge(i, j, weight=distances[j])\n",
    "    \n",
    "summary(graph)"
   ]
  },
  {
   "cell_type": "code",
   "execution_count": 6,
   "metadata": {},
   "outputs": [],
   "source": [
    "import pickle\n",
    "pickle.dump([images, pca_features, pca, graph], open('graph_caltech101_30knn.p', 'wb'))\n",
    "#images, graph = pickle.load(open('../data/graph_caltech101_30knn.p', 'r'))"
   ]
  },
  {
   "cell_type": "code",
   "execution_count": null,
   "metadata": {},
   "outputs": [],
   "source": [
    "def get_concatenated_images(indexes, thumb_height):\n",
    "    thumbs = []\n",
    "    for idx in indexes:\n",
    "        img = Image.open(images[idx])\n",
    "        img = img.convert('RGB')\n",
    "        img = img.resize((int(img.width * thumb_height / img.height), thumb_height))\n",
    "        thumbs.append(img)\n",
    "    concat_image = np.concatenate([np.asarray(t) for t in thumbs], axis=1)\n",
    "    return concat_image"
   ]
  },
  {
   "cell_type": "code",
   "execution_count": null,
   "metadata": {},
   "outputs": [],
   "source": [
    "# pick two random indices\n",
    "idx1 = int(len(images) * random.random())\n",
    "idx2 = int(len(images) * random.random())\n",
    "\n",
    "# run get_shortest_paths\n",
    "path = graph.get_shortest_paths(idx1, to=idx2, mode=OUT, output='vpath', weights='weight')[0]\n",
    "\n",
    "# retrieve the images, concatenate into one, and display them\n",
    "results_image = get_concatenated_images(path, 200)\n",
    "matplotlib.pyplot.figure(figsize = (16,12))\n",
    "imshow(results_image)"
   ]
  }
 ],
 "metadata": {
  "kernelspec": {
   "display_name": "Python 3",
   "language": "python",
   "name": "python3"
  },
  "language_info": {
   "codemirror_mode": {
    "name": "ipython",
    "version": 3
   },
   "file_extension": ".py",
   "mimetype": "text/x-python",
   "name": "python",
   "nbconvert_exporter": "python",
   "pygments_lexer": "ipython3",
   "version": "3.6.3"
  }
 },
 "nbformat": 4,
 "nbformat_minor": 2
}
