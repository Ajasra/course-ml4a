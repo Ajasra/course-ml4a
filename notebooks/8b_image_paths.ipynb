{
 "cells": [
  {
   "cell_type": "code",
   "execution_count": 6,
   "metadata": {},
   "outputs": [
    {
     "name": "stdout",
     "output_type": "stream",
     "text": [
      "image: data/101_ObjectCategories/accordion/image_0001.jpg, features: -7.55,-6.28,-21.75,5.71... \n",
      "image: data/101_ObjectCategories/accordion/image_0002.jpg, features: -8.51,-8.37,-17.40,-4.45... \n",
      "image: data/101_ObjectCategories/accordion/image_0003.jpg, features: -11.12,-10.11,-21.06,7.69... \n",
      "image: data/101_ObjectCategories/accordion/image_0004.jpg, features: -12.16,-11.77,-21.84,7.25... \n",
      "image: data/101_ObjectCategories/accordion/image_0005.jpg, features: -9.15,-3.14,-13.55,-0.50... \n"
     ]
    }
   ],
   "source": [
    "import pickle\n",
    "\n",
    "images, pca_features, pca = pickle.load(open('data/features_caltech101.p', 'rb'))\n",
    "\n",
    "for i, f in list(zip(images, pca_features))[0:5]:\n",
    "    print(\"image: %s, features: %0.2f,%0.2f,%0.2f,%0.2f... \"%(i, f[0], f[1], f[2], f[3]))"
   ]
  },
  {
   "cell_type": "code",
   "execution_count": 7,
   "metadata": {},
   "outputs": [],
   "source": [
    "num_images = 10000\n",
    "\n",
    "if len(images) > num_images:\n",
    "    sort_order = sorted(random.sample(xrange(len(images)), num_images))\n",
    "    images = [images[i] for i in sort_order]\n",
    "    pca_features = [pca_features[i] for i in sort_order]"
   ]
  },
  {
   "cell_type": "code",
   "execution_count": 9,
   "metadata": {},
   "outputs": [
    {
     "name": "stdout",
     "output_type": "stream",
     "text": [
      "Traceback (most recent call last):\n",
      "  File \"/usr/local/bin/pip\", line 5, in <module>\n",
      "    from pkg_resources import load_entry_point\n",
      "  File \"/usr/local/lib/python2.7/site-packages/distribute-0.6.14-py2.7.egg/pkg_resources.py\", line 2671, in <module>\n",
      "    working_set.require(__requires__)\n",
      "  File \"/usr/local/lib/python2.7/site-packages/distribute-0.6.14-py2.7.egg/pkg_resources.py\", line 654, in require\n",
      "    needed = self.resolve(parse_requirements(requirements))\n",
      "  File \"/usr/local/lib/python2.7/site-packages/distribute-0.6.14-py2.7.egg/pkg_resources.py\", line 552, in resolve\n",
      "    raise DistributionNotFound(req)\n",
      "pkg_resources.DistributionNotFound: pip==9.0.1\n"
     ]
    },
    {
     "ename": "ImportError",
     "evalue": "No module named 'igraph'",
     "output_type": "error",
     "traceback": [
      "\u001b[0;31m---------------------------------------------------------------------------\u001b[0m",
      "\u001b[0;31mImportError\u001b[0m                               Traceback (most recent call last)",
      "\u001b[0;32m<ipython-input-9-278c83ba0a98>\u001b[0m in \u001b[0;36m<module>\u001b[0;34m()\u001b[0m\n\u001b[1;32m      1\u001b[0m \u001b[0mget_ipython\u001b[0m\u001b[0;34m(\u001b[0m\u001b[0;34m)\u001b[0m\u001b[0;34m.\u001b[0m\u001b[0msystem\u001b[0m\u001b[0;34m(\u001b[0m\u001b[0;34m'pip install igraph'\u001b[0m\u001b[0;34m)\u001b[0m\u001b[0;34m\u001b[0m\u001b[0m\n\u001b[0;32m----> 2\u001b[0;31m \u001b[0;32mfrom\u001b[0m \u001b[0migraph\u001b[0m \u001b[0;32mimport\u001b[0m \u001b[0;34m*\u001b[0m\u001b[0;34m\u001b[0m\u001b[0m\n\u001b[0m\u001b[1;32m      3\u001b[0m \u001b[0;34m\u001b[0m\u001b[0m\n\u001b[1;32m      4\u001b[0m \u001b[0mkNN\u001b[0m \u001b[0;34m=\u001b[0m \u001b[0;36m30\u001b[0m\u001b[0;34m\u001b[0m\u001b[0m\n\u001b[1;32m      5\u001b[0m \u001b[0;34m\u001b[0m\u001b[0m\n",
      "\u001b[0;31mImportError\u001b[0m: No module named 'igraph'"
     ]
    }
   ],
   "source": [
    "\n",
    "from igraph import *\n",
    "\n",
    "kNN = 30\n",
    "\n",
    "graph = Graph(directed=True)\n",
    "graph.add_vertices(len(images))\n",
    "\n",
    "for i in tqdm(range(len(images))):\n",
    "    distances = [ distance.cosine(pca_features[i], feat) for feat in pca_features ]\n",
    "    idx_kNN = sorted(range(len(distances)), key=lambda k: distances[k])[1:kNN+1]\n",
    "    for j in idx_kNN:\n",
    "        graph.add_edge(i, j, weight=distances[j])\n",
    "    \n",
    "summary(graph)"
   ]
  },
  {
   "cell_type": "code",
   "execution_count": null,
   "metadata": {},
   "outputs": [],
   "source": [
    "pickle.dump([images, graph], open('data/graph_caltech101_30knn.p', 'wb'))\n",
    "#images, graph = pickle.load(open('../data/graph_caltech101_30knn.p', 'r'))"
   ]
  },
  {
   "cell_type": "code",
   "execution_count": null,
   "metadata": {},
   "outputs": [],
   "source": [
    "def get_concatenated_images(indexes, thumb_height):\n",
    "    thumbs = []\n",
    "    for idx in indexes:\n",
    "        img = Image.open(images[idx])\n",
    "        img = img.convert('RGB')\n",
    "        img = img.resize((int(img.width * thumb_height / img.height), thumb_height))\n",
    "        thumbs.append(img)\n",
    "    concat_image = np.concatenate([np.asarray(t) for t in thumbs], axis=1)\n",
    "    return concat_image"
   ]
  },
  {
   "cell_type": "code",
   "execution_count": null,
   "metadata": {},
   "outputs": [],
   "source": [
    "# pick two random indices\n",
    "idx1 = int(len(images) * random.random())\n",
    "idx2 = int(len(images) * random.random())\n",
    "\n",
    "# run get_shortest_paths\n",
    "path = graph.get_shortest_paths(idx1, to=idx2, mode=OUT, output='vpath', weights='weight')[0]\n",
    "\n",
    "# retrieve the images, concatenate into one, and display them\n",
    "results_image = get_concatenated_images(path, 200)\n",
    "matplotlib.pyplot.figure(figsize = (16,12))\n",
    "imshow(results_image)"
   ]
  }
 ],
 "metadata": {
  "kernelspec": {
   "display_name": "Python 3",
   "language": "python",
   "name": "python3"
  },
  "language_info": {
   "codemirror_mode": {
    "name": "ipython",
    "version": 3
   },
   "file_extension": ".py",
   "mimetype": "text/x-python",
   "name": "python",
   "nbconvert_exporter": "python",
   "pygments_lexer": "ipython3",
   "version": "3.5.3"
  }
 },
 "nbformat": 4,
 "nbformat_minor": 2
}
